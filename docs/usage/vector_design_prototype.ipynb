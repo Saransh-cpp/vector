{
 "cells": [
  {
   "cell_type": "markdown",
   "metadata": {},
   "source": [
    "# Vector Design Prototype\n",
    "## Written by Jim Pivarski, with Henry Schreiner"
   ]
  },
  {
   "cell_type": "code",
   "execution_count": 1,
   "metadata": {},
   "outputs": [],
   "source": [
    "import json\n",
    "import operator\n",
    "import sys\n",
    "\n",
    "import awkward as ak\n",
    "import numba as nb\n",
    "import numpy as np\n",
    "import uproot\n",
    "from skhep_testdata import data_path"
   ]
  },
  {
   "cell_type": "markdown",
   "metadata": {},
   "source": [
    "This is an free-standing illustration of the original design of Vector and the integration with Awkward1."
   ]
  },
  {
   "cell_type": "markdown",
   "metadata": {},
   "source": [
    "### Import data\n",
    "Get some data from Uproot via scikit-hep-testdata"
   ]
  },
  {
   "cell_type": "code",
   "execution_count": 2,
   "metadata": {},
   "outputs": [],
   "source": [
    "tree = uproot.open(data_path(\"uproot-HZZ.root\"))[\"events\"]"
   ]
  },
  {
   "cell_type": "code",
   "execution_count": 3,
   "metadata": {},
   "outputs": [],
   "source": [
    "data = tree.arrays([\"Muon_Px\", \"Muon_Py\", \"Muon_Pz\", \"Muon_E\"])\n",
    "x, y, z, t = data[\"Muon_Px\"], data[\"Muon_Py\"], data[\"Muon_Pz\"], data[\"Muon_E\"]\n",
    "offsets = ak.layout.Index64(x.layout.offsets)\n",
    "content = ak.layout.RecordArray(\n",
    "    {\n",
    "        \"x\": ak.layout.NumpyArray(x.layout.content),\n",
    "        \"y\": ak.layout.NumpyArray(y.layout.content),\n",
    "        \"z\": ak.layout.NumpyArray(z.layout.content),\n",
    "        \"t\": ak.layout.NumpyArray(t.layout.content),\n",
    "    },\n",
    "    parameters={\"__record__\": \"LorentzXYZT\"},\n",
    ")"
   ]
  },
  {
   "cell_type": "markdown",
   "metadata": {},
   "source": [
    "I like `LorentzXYZT` as a name for Cartesian Lorentz vectors. It can recognizably\n",
    "be shortened to `Lxyz` and it invites the cylindrical form to be `LorentzCyl`/`Lcyl`.\n",
    "\n",
    "They should be interchangeable: having the same methods/properties and freely\n",
    "returning whichever form is most convenient. Source vectors would likely be `Lcyl`\n",
    "and adding them would likely return `Lxyz`, for instance.\n",
    "\n",
    "This array is generic: it doesn't know what records labeled `LorentzXYZT` mean."
   ]
  },
  {
   "cell_type": "code",
   "execution_count": 4,
   "metadata": {},
   "outputs": [
    {
     "name": "stdout",
     "output_type": "stream",
     "text": [
      "<Array [[{x: -52.9, y: -11.7, ... t: 69.6}]] type='2421 * var * LorentzXYZT[\"x\":...'>\n"
     ]
    }
   ],
   "source": [
    "example = ak.Array(ak.layout.ListOffsetArray64(offsets, content))\n",
    "print(repr(example))"
   ]
  },
  {
   "cell_type": "markdown",
   "metadata": {},
   "source": [
    "### Free functions\n",
    "\n",
    "These functions can be reused for LorentzXYZT objects, LorentzXYZTArray arrays, and Numba."
   ]
  },
  {
   "cell_type": "code",
   "execution_count": 5,
   "metadata": {},
   "outputs": [],
   "source": [
    "def lorentz_xyz_pt(rec):\n",
    "    return np.sqrt(rec.x**2 + rec.y**2)\n",
    "\n",
    "\n",
    "def lorentz_xyz_eta(rec):\n",
    "    return np.arcsinh(rec.z / np.sqrt(rec.x**2 + rec.y**2))\n",
    "\n",
    "\n",
    "def lorentz_xyz_phi(rec):\n",
    "    return np.arctan2(rec.y, rec.x)\n",
    "\n",
    "\n",
    "def lorentz_xyz_mass(rec):\n",
    "    return np.sqrt(rec.t**2 - rec.x**2 - rec.y**2 - rec.z**2)"
   ]
  },
  {
   "cell_type": "markdown",
   "metadata": {},
   "source": [
    "This function only works as a ufunc overload"
   ]
  },
  {
   "cell_type": "code",
   "execution_count": 6,
   "metadata": {},
   "outputs": [],
   "source": [
    "def lorentz_add_xyz_xyz(left, right):\n",
    "    x = left.x + right.x\n",
    "    y = left.y + right.y\n",
    "    z = left.z + right.z\n",
    "    t = left.t + right.t\n",
    "\n",
    "    return ak.zip({\"x\": x, \"y\": y, \"z\": z, \"t\": t}, with_name=\"LorentzXYZT\")"
   ]
  },
  {
   "cell_type": "markdown",
   "metadata": {},
   "source": [
    "### Mixin class\n",
    "\n",
    "Many of the functions can be used for records and arrays of them, so use a base class. This is a *mixin* - no **members** or **constructors** allowed."
   ]
  },
  {
   "cell_type": "code",
   "execution_count": 7,
   "metadata": {},
   "outputs": [],
   "source": [
    "class LorentzXYZTCommon:\n",
    "    @property\n",
    "    def pt(self):\n",
    "        with np.errstate(invalid=\"ignore\"):\n",
    "            return lorentz_xyz_pt(self)\n",
    "\n",
    "    @property\n",
    "    def eta(self):\n",
    "        with np.errstate(invalid=\"ignore\"):\n",
    "            return lorentz_xyz_eta(self)\n",
    "\n",
    "    @property\n",
    "    def phi(self):\n",
    "        with np.errstate(invalid=\"ignore\"):\n",
    "            return lorentz_xyz_phi(self)\n",
    "\n",
    "    @property\n",
    "    def mass(self):\n",
    "        with np.errstate(invalid=\"ignore\"):\n",
    "            return lorentz_xyz_mass(self)"
   ]
  },
  {
   "cell_type": "markdown",
   "metadata": {},
   "source": [
    "### Awkward behavior\n",
    "\n",
    "This is all that is required to make an Awkward array behavior:"
   ]
  },
  {
   "cell_type": "code",
   "execution_count": 8,
   "metadata": {},
   "outputs": [],
   "source": [
    "class LorentzXYZT(ak.Record, LorentzXYZTCommon):\n",
    "    def __repr__(self):\n",
    "        return \"Lxyz({:.3g} {:.3g} {:.3g} {:.3g})\".format(\n",
    "            self.x, self.y, self.z, self.t\n",
    "        )\n",
    "\n",
    "\n",
    "class LorentzXYZTArray(ak.Array, LorentzXYZTCommon):\n",
    "    pass"
   ]
  },
  {
   "cell_type": "markdown",
   "metadata": {},
   "source": [
    "Now, we need a behavior dict:"
   ]
  },
  {
   "cell_type": "code",
   "execution_count": 9,
   "metadata": {},
   "outputs": [],
   "source": [
    "# Define some behaviors for Lorentz vectors.\n",
    "lorentzbehavior = dict(ak.behavior)\n",
    "\n",
    "# Any records with __record__ = \"LorentzXYZT\" will be mapped to LorentzXYZT instances.\n",
    "lorentzbehavior[\"LorentzXYZT\"] = LorentzXYZT\n",
    "\n",
    "# Any arrays containing such records (any number of levels deep) will be LorentsXYZArrays.\n",
    "lorentzbehavior[\"*\", \"LorentzXYZT\"] = LorentzXYZTArray\n",
    "\n",
    "# The NumPy ufunc for \"add\" will use our definition for __record__ = \"LorentzXYZT\".\n",
    "lorentzbehavior[np.add, \"LorentzXYZT\", \"LorentzXYZT\"] = lorentz_add_xyz_xyz"
   ]
  },
  {
   "cell_type": "markdown",
   "metadata": {},
   "source": [
    "### Example with Awkward\n",
    "\n",
    "This is ready to be used:"
   ]
  },
  {
   "cell_type": "code",
   "execution_count": 10,
   "metadata": {},
   "outputs": [
    {
     "name": "stdout",
     "output_type": "stream",
     "text": [
      "<LorentzXYZTArray [[Lxyz(-52.9 -11.7 -8.16 54.8), ... ] type='2421 * var * Loren...'>\n",
      "Lxyz(-52.9 -11.7 -8.16 54.8)\n",
      "0.10559298741436905\n",
      "<Array [[0.105, 0.105], ... [0.106]] type='2421 * var * float32'>\n"
     ]
    }
   ],
   "source": [
    "# This new array understands that data labeled \"LorentzXYZT\" should have the above methods.\n",
    "example2 = ak.Array(example, behavior=lorentzbehavior)\n",
    "\n",
    "print(repr(example2))\n",
    "print(repr(example2[0, 0]))\n",
    "print(repr(example2[0, 0].mass))\n",
    "print(repr(example2.mass))"
   ]
  },
  {
   "cell_type": "code",
   "execution_count": 11,
   "metadata": {},
   "outputs": [
    {
     "data": {
      "text/plain": [
       "<Array [[-52.9, 37.7], ... 1.14], [23.9]] type='2421 * var * float32'>"
      ]
     },
     "execution_count": 11,
     "metadata": {},
     "output_type": "execute_result"
    }
   ],
   "source": [
    "example.x"
   ]
  },
  {
   "cell_type": "code",
   "execution_count": 12,
   "metadata": {},
   "outputs": [
    {
     "name": "stdout",
     "output_type": "stream",
     "text": [
      "[Lxyz(-15.2 -11 -19.5 94.2), Lxyz(49.8 8.08 48.1 102), ... Lxyz(2.94 18.4 -262 273)]\n",
      "[90.2, 74.7, 89.8, 94.9, 92.1, 53.4, 89.8, ... 91.7, 88.8, 101, 91.5, 92.1, 85.4, 76]\n"
     ]
    }
   ],
   "source": [
    "# We need a \"ak.sizes\" function with a simpler interface than this...\n",
    "hastwo = ak.count(example2, axis=-1).x >= 2\n",
    "\n",
    "print(example2[hastwo, 0] + example2[hastwo, 1])\n",
    "print((example2[hastwo, 0] + example2[hastwo, 1]).mass)"
   ]
  },
  {
   "cell_type": "markdown",
   "metadata": {},
   "source": [
    "## Numba\n",
    "### Numba: Simple Awkward property access\n",
    "\n",
    "\n",
    "Now we need typers and lowerers:"
   ]
  },
  {
   "cell_type": "code",
   "execution_count": 13,
   "metadata": {},
   "outputs": [],
   "source": [
    "def typer_lorentz_xyz_pt(viewtype):\n",
    "    return nb.float64\n",
    "\n",
    "\n",
    "def lower_lorentz_xyz_pt(context, builder, sig, args):\n",
    "    return context.compile_internal(builder, lorentz_xyz_pt, sig, args)"
   ]
  },
  {
   "cell_type": "markdown",
   "metadata": {},
   "source": [
    "These can be awkward behaviors:"
   ]
  },
  {
   "cell_type": "code",
   "execution_count": 14,
   "metadata": {},
   "outputs": [],
   "source": [
    "lorentzbehavior[\"__numba_typer__\", \"LorentzXYZT\", \"pt\"] = typer_lorentz_xyz_pt\n",
    "lorentzbehavior[\"__numba_lower__\", \"LorentzXYZT\", \"pt\"] = lower_lorentz_xyz_pt"
   ]
  },
  {
   "cell_type": "markdown",
   "metadata": {},
   "source": [
    "If we wanted a method (with arguments determined in the typer), the signature would be:\n",
    "\n",
    "```python\n",
    "lorentzbehavior[\"__numba_lower__\", \"LorentzXYZT\", \"pt\", ()] = ...\n",
    "```"
   ]
  },
  {
   "cell_type": "markdown",
   "metadata": {},
   "source": [
    "#### Example\n",
    "\n",
    "Let's try accessing this in Numba:"
   ]
  },
  {
   "cell_type": "code",
   "execution_count": 17,
   "metadata": {},
   "outputs": [
    {
     "ename": "TypingError",
     "evalue": "Failed in nopython mode pipeline (step: nopython frontend)\n\u001b[1m\u001b[1m\u001b[1m\u001b[1m- Resolution failure for literal arguments:\n\u001b[1mak.RecordViewType(ak.ArrayView(ak.RecordArrayType((ak.NumpyArrayType(array(float32, 1d, A), none, {}), ak.NumpyArrayType(array(float32, 1d, A), none, {}), ak.NumpyArrayType(array(float32, 1d, A), none, {}), ak.NumpyArrayType(array(float32, 1d, A), none, {})), (('x', 'y', 'z', 't')), none, {\"__record__\": \"LorentzXYZT\"}), {'byte': <class 'awkward.behaviors.string.ByteBehavior'>, ('__typestr__', 'byte'): 'byte', 'char': <class 'awkward.behaviors.string.CharBehavior'>, ('__typestr__', 'char'): 'char', 'bytestring': <class 'awkward.behaviors.string.ByteStringBehavior'>, ('__typestr__', 'bytestring'): 'bytes', 'string': <class 'awkward.behaviors.string.StringBehavior'>, ('__typestr__', 'string'): 'string', (<ufunc 'equal'>, 'bytestring', 'bytestring'): <function _string_equal at 0x0000019E52402A60>, (<ufunc 'equal'>, 'string', 'string'): <function _string_equal at 0x0000019E52402A60>, (<ufunc 'not_equal'>, 'bytestring', 'bytestring'): <function _string_notequal at 0x0000019E52406670>, (<ufunc 'not_equal'>, 'string', 'string'): <function _string_notequal at 0x0000019E52406670>, ('__broadcast__', 'bytestring'): <function _string_broadcast at 0x0000019E52406700>, ('__broadcast__', 'string'): <function _string_broadcast at 0x0000019E52406700>, ('__numba_typer__', 'bytestring'): <function _string_numba_typer at 0x0000019E52406790>, ('__numba_lower__', 'bytestring'): <function _string_numba_lower at 0x0000019E52406820>, ('__numba_typer__', 'string'): <function _string_numba_typer at 0x0000019E52406790>, ('__numba_lower__', 'string'): <function _string_numba_lower at 0x0000019E52406820>, 'categorical': <class 'awkward.behaviors.categorical.CategoricalBehavior'>, (<ufunc 'equal'>, 'categorical', 'categorical'): <function _categorical_equal at 0x0000019E52406DC0>, (<class 'numpy.ufunc'>, 'categorical'): <function _apply_ufunc at 0x0000019E52406E50>, 'LorentzXYZT': <class '__main__.LorentzXYZT'>, ('*', 'LorentzXYZT'): <class '__main__.LorentzXYZTArray'>, (<ufunc 'add'>, 'LorentzXYZT', 'LorentzXYZT'): <function lorentz_add_xyz_xyz at 0x0000019E4283AEE0>, ('__numba_typer__', 'LorentzXYZT', 'pt'): <function typer_lorentz_xyz_pt at 0x0000019E6445D0D0>, ('__numba_lower__', 'LorentzXYZT', 'pt'): <function lower_lorentz_xyz_pt at 0x0000019E64408700>}, ()))\u001b[0m\n\u001b[0m\u001b[1m- Resolution failure for non-literal arguments:\n\u001b[1mNone\u001b[0m\n\u001b[0m\u001b[0m\n\u001b[0m\u001b[1mDuring: resolving callee type: BoundFunction(append for ak.ArrayBuilderType({'byte': <class 'awkward.behaviors.string.ByteBehavior'>, ('__typestr__', 'byte'): 'byte', 'char': <class 'awkward.behaviors.string.CharBehavior'>, ('__typestr__', 'char'): 'char', 'bytestring': <class 'awkward.behaviors.string.ByteStringBehavior'>, ('__typestr__', 'bytestring'): 'bytes', 'string': <class 'awkward.behaviors.string.StringBehavior'>, ('__typestr__', 'string'): 'string', (<ufunc 'equal'>, 'bytestring', 'bytestring'): <function _string_equal at 0x0000019E52402A60>, (<ufunc 'equal'>, 'string', 'string'): <function _string_equal at 0x0000019E52402A60>, (<ufunc 'not_equal'>, 'bytestring', 'bytestring'): <function _string_notequal at 0x0000019E52406670>, (<ufunc 'not_equal'>, 'string', 'string'): <function _string_notequal at 0x0000019E52406670>, ('__broadcast__', 'bytestring'): <function _string_broadcast at 0x0000019E52406700>, ('__broadcast__', 'string'): <function _string_broadcast at 0x0000019E52406700>, ('__numba_typer__', 'bytestring'): <function _string_numba_typer at 0x0000019E52406790>, ('__numba_lower__', 'bytestring'): <function _string_numba_lower at 0x0000019E52406820>, ('__numba_typer__', 'string'): <function _string_numba_typer at 0x0000019E52406790>, ('__numba_lower__', 'string'): <function _string_numba_lower at 0x0000019E52406820>, 'categorical': <class 'awkward.behaviors.categorical.CategoricalBehavior'>, (<ufunc 'equal'>, 'categorical', 'categorical'): <function _categorical_equal at 0x0000019E52406DC0>, (<class 'numpy.ufunc'>, 'categorical'): <function _apply_ufunc at 0x0000019E52406E50>, 'LorentzXYZT': <class '__main__.LorentzXYZT'>, ('*', 'LorentzXYZT'): <class '__main__.LorentzXYZTArray'>, (<ufunc 'add'>, 'LorentzXYZT', 'LorentzXYZT'): <function lorentz_add_xyz_xyz at 0x0000019E4283AEE0>, ('__numba_typer__', 'LorentzXYZT', 'pt'): <function typer_lorentz_xyz_pt at 0x0000019E6445D0D0>, ('__numba_lower__', 'LorentzXYZT', 'pt'): <function lower_lorentz_xyz_pt at 0x0000019E64408700>}))\u001b[0m\n\u001b[0m\u001b[1mDuring: typing of call at C:\\Users\\Saransh\\AppData\\Local\\Temp\\ipykernel_9900\\68756601.py (12)\n\u001b[0m\n\u001b[1m\nFile \"C:\\Users\\Saransh\\AppData\\Local\\Temp\\ipykernel_9900\\68756601.py\", line 12:\u001b[0m\n\u001b[1mdef do_it_in_numba(input, output):\n    <source elided>\n            output.field(\"muon\")\n\u001b[1m            output.append(muon)\n\u001b[0m            \u001b[1m^\u001b[0m\u001b[0m\n",
     "output_type": "error",
     "traceback": [
      "\u001b[1;31m---------------------------------------------------------------------------\u001b[0m",
      "\u001b[1;31mTypingError\u001b[0m                               Traceback (most recent call last)",
      "Cell \u001b[1;32mIn [17], line 21\u001b[0m\n\u001b[0;32m     17\u001b[0m         output\u001b[38;5;241m.\u001b[39mend_list()\n\u001b[0;32m     20\u001b[0m output \u001b[38;5;241m=\u001b[39m ak\u001b[38;5;241m.\u001b[39mArrayBuilder(behavior\u001b[38;5;241m=\u001b[39mlorentzbehavior)\n\u001b[1;32m---> 21\u001b[0m \u001b[43mdo_it_in_numba\u001b[49m\u001b[43m(\u001b[49m\u001b[43mexample3\u001b[49m\u001b[43m,\u001b[49m\u001b[43m \u001b[49m\u001b[43moutput\u001b[49m\u001b[43m)\u001b[49m\n\u001b[0;32m     23\u001b[0m \u001b[38;5;28mprint\u001b[39m(output\u001b[38;5;241m.\u001b[39msnapshot())\n",
      "File \u001b[1;32m~\\Saransh_softwares\\Python_3.9\\lib\\site-packages\\numba\\core\\dispatcher.py:468\u001b[0m, in \u001b[0;36m_DispatcherBase._compile_for_args\u001b[1;34m(self, *args, **kws)\u001b[0m\n\u001b[0;32m    464\u001b[0m         msg \u001b[38;5;241m=\u001b[39m (\u001b[38;5;124mf\u001b[39m\u001b[38;5;124m\"\u001b[39m\u001b[38;5;132;01m{\u001b[39;00m\u001b[38;5;28mstr\u001b[39m(e)\u001b[38;5;241m.\u001b[39mrstrip()\u001b[38;5;132;01m}\u001b[39;00m\u001b[38;5;124m \u001b[39m\u001b[38;5;130;01m\\n\u001b[39;00m\u001b[38;5;130;01m\\n\u001b[39;00m\u001b[38;5;124mThis error may have been caused \u001b[39m\u001b[38;5;124m\"\u001b[39m\n\u001b[0;32m    465\u001b[0m                \u001b[38;5;124mf\u001b[39m\u001b[38;5;124m\"\u001b[39m\u001b[38;5;124mby the following argument(s):\u001b[39m\u001b[38;5;130;01m\\n\u001b[39;00m\u001b[38;5;132;01m{\u001b[39;00margs_str\u001b[38;5;132;01m}\u001b[39;00m\u001b[38;5;130;01m\\n\u001b[39;00m\u001b[38;5;124m\"\u001b[39m)\n\u001b[0;32m    466\u001b[0m         e\u001b[38;5;241m.\u001b[39mpatch_message(msg)\n\u001b[1;32m--> 468\u001b[0m     \u001b[43merror_rewrite\u001b[49m\u001b[43m(\u001b[49m\u001b[43me\u001b[49m\u001b[43m,\u001b[49m\u001b[43m \u001b[49m\u001b[38;5;124;43m'\u001b[39;49m\u001b[38;5;124;43mtyping\u001b[39;49m\u001b[38;5;124;43m'\u001b[39;49m\u001b[43m)\u001b[49m\n\u001b[0;32m    469\u001b[0m \u001b[38;5;28;01mexcept\u001b[39;00m errors\u001b[38;5;241m.\u001b[39mUnsupportedError \u001b[38;5;28;01mas\u001b[39;00m e:\n\u001b[0;32m    470\u001b[0m     \u001b[38;5;66;03m# Something unsupported is present in the user code, add help info\u001b[39;00m\n\u001b[0;32m    471\u001b[0m     error_rewrite(e, \u001b[38;5;124m'\u001b[39m\u001b[38;5;124munsupported_error\u001b[39m\u001b[38;5;124m'\u001b[39m)\n",
      "File \u001b[1;32m~\\Saransh_softwares\\Python_3.9\\lib\\site-packages\\numba\\core\\dispatcher.py:409\u001b[0m, in \u001b[0;36m_DispatcherBase._compile_for_args.<locals>.error_rewrite\u001b[1;34m(e, issue_type)\u001b[0m\n\u001b[0;32m    407\u001b[0m     \u001b[38;5;28;01mraise\u001b[39;00m e\n\u001b[0;32m    408\u001b[0m \u001b[38;5;28;01melse\u001b[39;00m:\n\u001b[1;32m--> 409\u001b[0m     \u001b[38;5;28;01mraise\u001b[39;00m e\u001b[38;5;241m.\u001b[39mwith_traceback(\u001b[38;5;28;01mNone\u001b[39;00m)\n",
      "\u001b[1;31mTypingError\u001b[0m: Failed in nopython mode pipeline (step: nopython frontend)\n\u001b[1m\u001b[1m\u001b[1m\u001b[1m- Resolution failure for literal arguments:\n\u001b[1mak.RecordViewType(ak.ArrayView(ak.RecordArrayType((ak.NumpyArrayType(array(float32, 1d, A), none, {}), ak.NumpyArrayType(array(float32, 1d, A), none, {}), ak.NumpyArrayType(array(float32, 1d, A), none, {}), ak.NumpyArrayType(array(float32, 1d, A), none, {})), (('x', 'y', 'z', 't')), none, {\"__record__\": \"LorentzXYZT\"}), {'byte': <class 'awkward.behaviors.string.ByteBehavior'>, ('__typestr__', 'byte'): 'byte', 'char': <class 'awkward.behaviors.string.CharBehavior'>, ('__typestr__', 'char'): 'char', 'bytestring': <class 'awkward.behaviors.string.ByteStringBehavior'>, ('__typestr__', 'bytestring'): 'bytes', 'string': <class 'awkward.behaviors.string.StringBehavior'>, ('__typestr__', 'string'): 'string', (<ufunc 'equal'>, 'bytestring', 'bytestring'): <function _string_equal at 0x0000019E52402A60>, (<ufunc 'equal'>, 'string', 'string'): <function _string_equal at 0x0000019E52402A60>, (<ufunc 'not_equal'>, 'bytestring', 'bytestring'): <function _string_notequal at 0x0000019E52406670>, (<ufunc 'not_equal'>, 'string', 'string'): <function _string_notequal at 0x0000019E52406670>, ('__broadcast__', 'bytestring'): <function _string_broadcast at 0x0000019E52406700>, ('__broadcast__', 'string'): <function _string_broadcast at 0x0000019E52406700>, ('__numba_typer__', 'bytestring'): <function _string_numba_typer at 0x0000019E52406790>, ('__numba_lower__', 'bytestring'): <function _string_numba_lower at 0x0000019E52406820>, ('__numba_typer__', 'string'): <function _string_numba_typer at 0x0000019E52406790>, ('__numba_lower__', 'string'): <function _string_numba_lower at 0x0000019E52406820>, 'categorical': <class 'awkward.behaviors.categorical.CategoricalBehavior'>, (<ufunc 'equal'>, 'categorical', 'categorical'): <function _categorical_equal at 0x0000019E52406DC0>, (<class 'numpy.ufunc'>, 'categorical'): <function _apply_ufunc at 0x0000019E52406E50>, 'LorentzXYZT': <class '__main__.LorentzXYZT'>, ('*', 'LorentzXYZT'): <class '__main__.LorentzXYZTArray'>, (<ufunc 'add'>, 'LorentzXYZT', 'LorentzXYZT'): <function lorentz_add_xyz_xyz at 0x0000019E4283AEE0>, ('__numba_typer__', 'LorentzXYZT', 'pt'): <function typer_lorentz_xyz_pt at 0x0000019E6445D0D0>, ('__numba_lower__', 'LorentzXYZT', 'pt'): <function lower_lorentz_xyz_pt at 0x0000019E64408700>}, ()))\u001b[0m\n\u001b[0m\u001b[1m- Resolution failure for non-literal arguments:\n\u001b[1mNone\u001b[0m\n\u001b[0m\u001b[0m\n\u001b[0m\u001b[1mDuring: resolving callee type: BoundFunction(append for ak.ArrayBuilderType({'byte': <class 'awkward.behaviors.string.ByteBehavior'>, ('__typestr__', 'byte'): 'byte', 'char': <class 'awkward.behaviors.string.CharBehavior'>, ('__typestr__', 'char'): 'char', 'bytestring': <class 'awkward.behaviors.string.ByteStringBehavior'>, ('__typestr__', 'bytestring'): 'bytes', 'string': <class 'awkward.behaviors.string.StringBehavior'>, ('__typestr__', 'string'): 'string', (<ufunc 'equal'>, 'bytestring', 'bytestring'): <function _string_equal at 0x0000019E52402A60>, (<ufunc 'equal'>, 'string', 'string'): <function _string_equal at 0x0000019E52402A60>, (<ufunc 'not_equal'>, 'bytestring', 'bytestring'): <function _string_notequal at 0x0000019E52406670>, (<ufunc 'not_equal'>, 'string', 'string'): <function _string_notequal at 0x0000019E52406670>, ('__broadcast__', 'bytestring'): <function _string_broadcast at 0x0000019E52406700>, ('__broadcast__', 'string'): <function _string_broadcast at 0x0000019E52406700>, ('__numba_typer__', 'bytestring'): <function _string_numba_typer at 0x0000019E52406790>, ('__numba_lower__', 'bytestring'): <function _string_numba_lower at 0x0000019E52406820>, ('__numba_typer__', 'string'): <function _string_numba_typer at 0x0000019E52406790>, ('__numba_lower__', 'string'): <function _string_numba_lower at 0x0000019E52406820>, 'categorical': <class 'awkward.behaviors.categorical.CategoricalBehavior'>, (<ufunc 'equal'>, 'categorical', 'categorical'): <function _categorical_equal at 0x0000019E52406DC0>, (<class 'numpy.ufunc'>, 'categorical'): <function _apply_ufunc at 0x0000019E52406E50>, 'LorentzXYZT': <class '__main__.LorentzXYZT'>, ('*', 'LorentzXYZT'): <class '__main__.LorentzXYZTArray'>, (<ufunc 'add'>, 'LorentzXYZT', 'LorentzXYZT'): <function lorentz_add_xyz_xyz at 0x0000019E4283AEE0>, ('__numba_typer__', 'LorentzXYZT', 'pt'): <function typer_lorentz_xyz_pt at 0x0000019E6445D0D0>, ('__numba_lower__', 'LorentzXYZT', 'pt'): <function lower_lorentz_xyz_pt at 0x0000019E64408700>}))\u001b[0m\n\u001b[0m\u001b[1mDuring: typing of call at C:\\Users\\Saransh\\AppData\\Local\\Temp\\ipykernel_9900\\68756601.py (12)\n\u001b[0m\n\u001b[1m\nFile \"C:\\Users\\Saransh\\AppData\\Local\\Temp\\ipykernel_9900\\68756601.py\", line 12:\u001b[0m\n\u001b[1mdef do_it_in_numba(input, output):\n    <source elided>\n            output.field(\"muon\")\n\u001b[1m            output.append(muon)\n\u001b[0m            \u001b[1m^\u001b[0m\u001b[0m\n"
     ]
    }
   ],
   "source": [
    "example3 = ak.Array(example, behavior=lorentzbehavior)\n",
    "\n",
    "\n",
    "@nb.njit\n",
    "def do_it_in_numba(input, output):\n",
    "    for event in input:\n",
    "        output.begin_list()\n",
    "\n",
    "        for muon in event:\n",
    "            output.begin_record()\n",
    "            output.field(\"muon\")\n",
    "            output.append(muon)\n",
    "            output.field(\"pt\")\n",
    "            output.append(muon.pt)\n",
    "            output.end_record()\n",
    "\n",
    "        output.end_list()\n",
    "\n",
    "\n",
    "output = ak.ArrayBuilder(behavior=lorentzbehavior)\n",
    "do_it_in_numba(example3, output)\n",
    "\n",
    "print(output.snapshot())"
   ]
  },
  {
   "cell_type": "markdown",
   "metadata": {},
   "source": [
    "### Numba: binary operators\n",
    "\n",
    "We can define binary operations (operator.add being the one we want most)..."
   ]
  },
  {
   "cell_type": "code",
   "execution_count": 15,
   "metadata": {},
   "outputs": [],
   "source": [
    "def typer_lorentz_xyz_eq(binop, left, right):\n",
    "    return nb.boolean(left, right) / \"\"\n",
    "\n",
    "\n",
    "def lower_lorentz_xyz_eq(context, builder, sig, args):\n",
    "    def compute(left, right):\n",
    "        return (\n",
    "            abs(left.x - right.x)\n",
    "            + abs(left.y - right.y)\n",
    "            + abs(left.z - right.z)\n",
    "            + abs(left.t - right.t)\n",
    "            < 0.001\n",
    "        )\n",
    "\n",
    "    return context.compile_internal(builder, compute, sig, args)\n",
    "\n",
    "\n",
    "lorentzbehavior[\n",
    "    \"__numba_typer__\", \"LorentzXYZT\", operator.eq, \"LorentzXYZT\"\n",
    "] = typer_lorentz_xyz_eq\n",
    "lorentzbehavior[\n",
    "    \"__numba_lower__\", \"LorentzXYZT\", operator.eq, \"LorentzXYZT\"\n",
    "] = lower_lorentz_xyz_eq"
   ]
  },
  {
   "cell_type": "markdown",
   "metadata": {},
   "source": [
    "#### Example"
   ]
  },
  {
   "cell_type": "code",
   "execution_count": 16,
   "metadata": {},
   "outputs": [
    {
     "ename": "TypingError",
     "evalue": "Failed in nopython mode pipeline (step: nopython frontend)\n\u001b[1m\u001b[1mNo implementation of function Function(<built-in function eq>) found for signature:\n \n >>> eq(ak.RecordViewType(ak.ArrayView(ak.RecordArrayType((ak.NumpyArrayType(array(float32, 1d, A), none, {}), ak.NumpyArrayType(array(float32, 1d, A), none, {}), ak.NumpyArrayType(array(float32, 1d, A), none, {}), ak.NumpyArrayType(array(float32, 1d, A), none, {})), (('x', 'y', 'z', 't')), none, {\"__record__\": \"LorentzXYZT\"}), {'byte': <class 'awkward.behaviors.string.ByteBehavior'>, ('__typestr__', 'byte'): 'byte', 'char': <class 'awkward.behaviors.string.CharBehavior'>, ('__typestr__', 'char'): 'char', 'bytestring': <class 'awkward.behaviors.string.ByteStringBehavior'>, ('__typestr__', 'bytestring'): 'bytes', 'string': <class 'awkward.behaviors.string.StringBehavior'>, ('__typestr__', 'string'): 'string', (<ufunc 'equal'>, 'bytestring', 'bytestring'): <function _string_equal at 0x000002ADE8547700>, (<ufunc 'equal'>, 'string', 'string'): <function _string_equal at 0x000002ADE8547700>, (<ufunc 'not_equal'>, 'bytestring', 'bytestring'): <function _string_notequal at 0x000002ADE854B310>, (<ufunc 'not_equal'>, 'string', 'string'): <function _string_notequal at 0x000002ADE854B310>, ('__broadcast__', 'bytestring'): <function _string_broadcast at 0x000002ADE854B3A0>, ('__broadcast__', 'string'): <function _string_broadcast at 0x000002ADE854B3A0>, ('__numba_typer__', 'bytestring'): <function _string_numba_typer at 0x000002ADE854B430>, ('__numba_lower__', 'bytestring'): <function _string_numba_lower at 0x000002ADE854B4C0>, ('__numba_typer__', 'string'): <function _string_numba_typer at 0x000002ADE854B430>, ('__numba_lower__', 'string'): <function _string_numba_lower at 0x000002ADE854B4C0>, 'categorical': <class 'awkward.behaviors.categorical.CategoricalBehavior'>, (<ufunc 'equal'>, 'categorical', 'categorical'): <function _categorical_equal at 0x000002ADE854BA60>, (<class 'numpy.ufunc'>, 'categorical'): <function _apply_ufunc at 0x000002ADE854BAF0>, 'LorentzXYZT': <class '__main__.LorentzXYZT'>, ('*', 'LorentzXYZT'): <class '__main__.LorentzXYZTArray'>, (<ufunc 'add'>, 'LorentzXYZT', 'LorentzXYZT'): <function lorentz_add_xyz_xyz at 0x000002ADD899B310>, ('__numba_typer__', 'LorentzXYZT', 'pt'): <function typer_lorentz_xyz_pt at 0x000002ADF7CB0940>, ('__numba_lower__', 'LorentzXYZT', 'pt'): <function lower_lorentz_xyz_pt at 0x000002ADF7CB0820>, ('__numba_typer__', 'LorentzXYZT', <built-in function eq>, 'LorentzXYZT'): <function typer_lorentz_xyz_eq at 0x000002ADF7CB0AF0>, ('__numba_lower__', 'LorentzXYZT', <built-in function eq>, 'LorentzXYZT'): <function lower_lorentz_xyz_eq at 0x000002ADF7CB05E0>}, ())), ak.RecordViewType(ak.ArrayView(ak.RecordArrayType((ak.NumpyArrayType(array(float32, 1d, A), none, {}), ak.NumpyArrayType(array(float32, 1d, A), none, {}), ak.NumpyArrayType(array(float32, 1d, A), none, {}), ak.NumpyArrayType(array(float32, 1d, A), none, {})), (('x', 'y', 'z', 't')), none, {\"__record__\": \"LorentzXYZT\"}), {'byte': <class 'awkward.behaviors.string.ByteBehavior'>, ('__typestr__', 'byte'): 'byte', 'char': <class 'awkward.behaviors.string.CharBehavior'>, ('__typestr__', 'char'): 'char', 'bytestring': <class 'awkward.behaviors.string.ByteStringBehavior'>, ('__typestr__', 'bytestring'): 'bytes', 'string': <class 'awkward.behaviors.string.StringBehavior'>, ('__typestr__', 'string'): 'string', (<ufunc 'equal'>, 'bytestring', 'bytestring'): <function _string_equal at 0x000002ADE8547700>, (<ufunc 'equal'>, 'string', 'string'): <function _string_equal at 0x000002ADE8547700>, (<ufunc 'not_equal'>, 'bytestring', 'bytestring'): <function _string_notequal at 0x000002ADE854B310>, (<ufunc 'not_equal'>, 'string', 'string'): <function _string_notequal at 0x000002ADE854B310>, ('__broadcast__', 'bytestring'): <function _string_broadcast at 0x000002ADE854B3A0>, ('__broadcast__', 'string'): <function _string_broadcast at 0x000002ADE854B3A0>, ('__numba_typer__', 'bytestring'): <function _string_numba_typer at 0x000002ADE854B430>, ('__numba_lower__', 'bytestring'): <function _string_numba_lower at 0x000002ADE854B4C0>, ('__numba_typer__', 'string'): <function _string_numba_typer at 0x000002ADE854B430>, ('__numba_lower__', 'string'): <function _string_numba_lower at 0x000002ADE854B4C0>, 'categorical': <class 'awkward.behaviors.categorical.CategoricalBehavior'>, (<ufunc 'equal'>, 'categorical', 'categorical'): <function _categorical_equal at 0x000002ADE854BA60>, (<class 'numpy.ufunc'>, 'categorical'): <function _apply_ufunc at 0x000002ADE854BAF0>, 'LorentzXYZT': <class '__main__.LorentzXYZT'>, ('*', 'LorentzXYZT'): <class '__main__.LorentzXYZTArray'>, (<ufunc 'add'>, 'LorentzXYZT', 'LorentzXYZT'): <function lorentz_add_xyz_xyz at 0x000002ADD899B310>, ('__numba_typer__', 'LorentzXYZT', 'pt'): <function typer_lorentz_xyz_pt at 0x000002ADF7CB0940>, ('__numba_lower__', 'LorentzXYZT', 'pt'): <function lower_lorentz_xyz_pt at 0x000002ADF7CB0820>, ('__numba_typer__', 'LorentzXYZT', <built-in function eq>, 'LorentzXYZT'): <function typer_lorentz_xyz_eq at 0x000002ADF7CB0AF0>, ('__numba_lower__', 'LorentzXYZT', <built-in function eq>, 'LorentzXYZT'): <function lower_lorentz_xyz_eq at 0x000002ADF7CB05E0>}, ())))\n \nThere are 38 candidate implementations:\n\u001b[1m  - Of which 34 did not match due to:\n  Overload of function 'eq': File: <numerous>: Line N/A.\n    With argument(s): '(ak.RecordViewType(ak.ArrayView(ak.RecordArrayType((ak.NumpyArrayType(array(float32, 1d, A), none, {}), ak.NumpyArrayType(array(float32, 1d, A), none, {}), ak.NumpyArrayType(array(float32, 1d, A), none, {}), ak.NumpyArrayType(array(float32, 1d, A), none, {})), (('x', 'y', 'z', 't')), none, {\"__record__\": \"LorentzXYZT\"}), {'byte': <class 'awkward.behaviors.string.ByteBehavior'>, ('__typestr__', 'byte'): 'byte', 'char': <class 'awkward.behaviors.string.CharBehavior'>, ('__typestr__', 'char'): 'char', 'bytestring': <class 'awkward.behaviors.string.ByteStringBehavior'>, ('__typestr__', 'bytestring'): 'bytes', 'string': <class 'awkward.behaviors.string.StringBehavior'>, ('__typestr__', 'string'): 'string', (<ufunc 'equal'>, 'bytestring', 'bytestring'): <function _string_equal at 0x000002ADE8547700>, (<ufunc 'equal'>, 'string', 'string'): <function _string_equal at 0x000002ADE8547700>, (<ufunc 'not_equal'>, 'bytestring', 'bytestring'): <function _string_notequal at 0x000002ADE854B310>, (<ufunc 'not_equal'>, 'string', 'string'): <function _string_notequal at 0x000002ADE854B310>, ('__broadcast__', 'bytestring'): <function _string_broadcast at 0x000002ADE854B3A0>, ('__broadcast__', 'string'): <function _string_broadcast at 0x000002ADE854B3A0>, ('__numba_typer__', 'bytestring'): <function _string_numba_typer at 0x000002ADE854B430>, ('__numba_lower__', 'bytestring'): <function _string_numba_lower at 0x000002ADE854B4C0>, ('__numba_typer__', 'string'): <function _string_numba_typer at 0x000002ADE854B430>, ('__numba_lower__', 'string'): <function _string_numba_lower at 0x000002ADE854B4C0>, 'categorical': <class 'awkward.behaviors.categorical.CategoricalBehavior'>, (<ufunc 'equal'>, 'categorical', 'categorical'): <function _categorical_equal at 0x000002ADE854BA60>, (<class 'numpy.ufunc'>, 'categorical'): <function _apply_ufunc at 0x000002ADE854BAF0>, 'LorentzXYZT': <class '__main__.LorentzXYZT'>, ('*', 'LorentzXYZT'): <class '__main__.LorentzXYZTArray'>, (<ufunc 'add'>, 'LorentzXYZT', 'LorentzXYZT'): <function lorentz_add_xyz_xyz at 0x000002ADD899B310>, ('__numba_typer__', 'LorentzXYZT', 'pt'): <function typer_lorentz_xyz_pt at 0x000002ADF7CB0940>, ('__numba_lower__', 'LorentzXYZT', 'pt'): <function lower_lorentz_xyz_pt at 0x000002ADF7CB0820>, ('__numba_typer__', 'LorentzXYZT', <built-in function eq>, 'LorentzXYZT'): <function typer_lorentz_xyz_eq at 0x000002ADF7CB0AF0>, ('__numba_lower__', 'LorentzXYZT', <built-in function eq>, 'LorentzXYZT'): <function lower_lorentz_xyz_eq at 0x000002ADF7CB05E0>}, ())), ak.RecordViewType(ak.ArrayView(ak.RecordArrayType((ak.NumpyArrayType(array(float32, 1d, A), none, {}), ak.NumpyArrayType(array(float32, 1d, A), none, {}), ak.NumpyArrayType(array(float32, 1d, A), none, {}), ak.NumpyArrayType(array(float32, 1d, A), none, {})), (('x', 'y', 'z', 't')), none, {\"__record__\": \"LorentzXYZT\"}), {'byte': <class 'awkward.behaviors.string.ByteBehavior'>, ('__typestr__', 'byte'): 'byte', 'char': <class 'awkward.behaviors.string.CharBehavior'>, ('__typestr__', 'char'): 'char', 'bytestring': <class 'awkward.behaviors.string.ByteStringBehavior'>, ('__typestr__', 'bytestring'): 'bytes', 'string': <class 'awkward.behaviors.string.StringBehavior'>, ('__typestr__', 'string'): 'string', (<ufunc 'equal'>, 'bytestring', 'bytestring'): <function _string_equal at 0x000002ADE8547700>, (<ufunc 'equal'>, 'string', 'string'): <function _string_equal at 0x000002ADE8547700>, (<ufunc 'not_equal'>, 'bytestring', 'bytestring'): <function _string_notequal at 0x000002ADE854B310>, (<ufunc 'not_equal'>, 'string', 'string'): <function _string_notequal at 0x000002ADE854B310>, ('__broadcast__', 'bytestring'): <function _string_broadcast at 0x000002ADE854B3A0>, ('__broadcast__', 'string'): <function _string_broadcast at 0x000002ADE854B3A0>, ('__numba_typer__', 'bytestring'): <function _string_numba_typer at 0x000002ADE854B430>, ('__numba_lower__', 'bytestring'): <function _string_numba_lower at 0x000002ADE854B4C0>, ('__numba_typer__', 'string'): <function _string_numba_typer at 0x000002ADE854B430>, ('__numba_lower__', 'string'): <function _string_numba_lower at 0x000002ADE854B4C0>, 'categorical': <class 'awkward.behaviors.categorical.CategoricalBehavior'>, (<ufunc 'equal'>, 'categorical', 'categorical'): <function _categorical_equal at 0x000002ADE854BA60>, (<class 'numpy.ufunc'>, 'categorical'): <function _apply_ufunc at 0x000002ADE854BAF0>, 'LorentzXYZT': <class '__main__.LorentzXYZT'>, ('*', 'LorentzXYZT'): <class '__main__.LorentzXYZTArray'>, (<ufunc 'add'>, 'LorentzXYZT', 'LorentzXYZT'): <function lorentz_add_xyz_xyz at 0x000002ADD899B310>, ('__numba_typer__', 'LorentzXYZT', 'pt'): <function typer_lorentz_xyz_pt at 0x000002ADF7CB0940>, ('__numba_lower__', 'LorentzXYZT', 'pt'): <function lower_lorentz_xyz_pt at 0x000002ADF7CB0820>, ('__numba_typer__', 'LorentzXYZT', <built-in function eq>, 'LorentzXYZT'): <function typer_lorentz_xyz_eq at 0x000002ADF7CB0AF0>, ('__numba_lower__', 'LorentzXYZT', <built-in function eq>, 'LorentzXYZT'): <function lower_lorentz_xyz_eq at 0x000002ADF7CB05E0>}, ())))':\u001b[0m\n\u001b[1m   No match.\u001b[0m\n\u001b[1m  - Of which 2 did not match due to:\n  Operator Overload in function 'eq': File: unknown: Line unknown.\n    With argument(s): '(ak.RecordViewType(ak.ArrayView(ak.RecordArrayType((ak.NumpyArrayType(array(float32, 1d, A), none, {}), ak.NumpyArrayType(array(float32, 1d, A), none, {}), ak.NumpyArrayType(array(float32, 1d, A), none, {}), ak.NumpyArrayType(array(float32, 1d, A), none, {})), (('x', 'y', 'z', 't')), none, {\"__record__\": \"LorentzXYZT\"}), {'byte': <class 'awkward.behaviors.string.ByteBehavior'>, ('__typestr__', 'byte'): 'byte', 'char': <class 'awkward.behaviors.string.CharBehavior'>, ('__typestr__', 'char'): 'char', 'bytestring': <class 'awkward.behaviors.string.ByteStringBehavior'>, ('__typestr__', 'bytestring'): 'bytes', 'string': <class 'awkward.behaviors.string.StringBehavior'>, ('__typestr__', 'string'): 'string', (<ufunc 'equal'>, 'bytestring', 'bytestring'): <function _string_equal at 0x000002ADE8547700>, (<ufunc 'equal'>, 'string', 'string'): <function _string_equal at 0x000002ADE8547700>, (<ufunc 'not_equal'>, 'bytestring', 'bytestring'): <function _string_notequal at 0x000002ADE854B310>, (<ufunc 'not_equal'>, 'string', 'string'): <function _string_notequal at 0x000002ADE854B310>, ('__broadcast__', 'bytestring'): <function _string_broadcast at 0x000002ADE854B3A0>, ('__broadcast__', 'string'): <function _string_broadcast at 0x000002ADE854B3A0>, ('__numba_typer__', 'bytestring'): <function _string_numba_typer at 0x000002ADE854B430>, ('__numba_lower__', 'bytestring'): <function _string_numba_lower at 0x000002ADE854B4C0>, ('__numba_typer__', 'string'): <function _string_numba_typer at 0x000002ADE854B430>, ('__numba_lower__', 'string'): <function _string_numba_lower at 0x000002ADE854B4C0>, 'categorical': <class 'awkward.behaviors.categorical.CategoricalBehavior'>, (<ufunc 'equal'>, 'categorical', 'categorical'): <function _categorical_equal at 0x000002ADE854BA60>, (<class 'numpy.ufunc'>, 'categorical'): <function _apply_ufunc at 0x000002ADE854BAF0>, 'LorentzXYZT': <class '__main__.LorentzXYZT'>, ('*', 'LorentzXYZT'): <class '__main__.LorentzXYZTArray'>, (<ufunc 'add'>, 'LorentzXYZT', 'LorentzXYZT'): <function lorentz_add_xyz_xyz at 0x000002ADD899B310>, ('__numba_typer__', 'LorentzXYZT', 'pt'): <function typer_lorentz_xyz_pt at 0x000002ADF7CB0940>, ('__numba_lower__', 'LorentzXYZT', 'pt'): <function lower_lorentz_xyz_pt at 0x000002ADF7CB0820>, ('__numba_typer__', 'LorentzXYZT', <built-in function eq>, 'LorentzXYZT'): <function typer_lorentz_xyz_eq at 0x000002ADF7CB0AF0>, ('__numba_lower__', 'LorentzXYZT', <built-in function eq>, 'LorentzXYZT'): <function lower_lorentz_xyz_eq at 0x000002ADF7CB05E0>}, ())), ak.RecordViewType(ak.ArrayView(ak.RecordArrayType((ak.NumpyArrayType(array(float32, 1d, A), none, {}), ak.NumpyArrayType(array(float32, 1d, A), none, {}), ak.NumpyArrayType(array(float32, 1d, A), none, {}), ak.NumpyArrayType(array(float32, 1d, A), none, {})), (('x', 'y', 'z', 't')), none, {\"__record__\": \"LorentzXYZT\"}), {'byte': <class 'awkward.behaviors.string.ByteBehavior'>, ('__typestr__', 'byte'): 'byte', 'char': <class 'awkward.behaviors.string.CharBehavior'>, ('__typestr__', 'char'): 'char', 'bytestring': <class 'awkward.behaviors.string.ByteStringBehavior'>, ('__typestr__', 'bytestring'): 'bytes', 'string': <class 'awkward.behaviors.string.StringBehavior'>, ('__typestr__', 'string'): 'string', (<ufunc 'equal'>, 'bytestring', 'bytestring'): <function _string_equal at 0x000002ADE8547700>, (<ufunc 'equal'>, 'string', 'string'): <function _string_equal at 0x000002ADE8547700>, (<ufunc 'not_equal'>, 'bytestring', 'bytestring'): <function _string_notequal at 0x000002ADE854B310>, (<ufunc 'not_equal'>, 'string', 'string'): <function _string_notequal at 0x000002ADE854B310>, ('__broadcast__', 'bytestring'): <function _string_broadcast at 0x000002ADE854B3A0>, ('__broadcast__', 'string'): <function _string_broadcast at 0x000002ADE854B3A0>, ('__numba_typer__', 'bytestring'): <function _string_numba_typer at 0x000002ADE854B430>, ('__numba_lower__', 'bytestring'): <function _string_numba_lower at 0x000002ADE854B4C0>, ('__numba_typer__', 'string'): <function _string_numba_typer at 0x000002ADE854B430>, ('__numba_lower__', 'string'): <function _string_numba_lower at 0x000002ADE854B4C0>, 'categorical': <class 'awkward.behaviors.categorical.CategoricalBehavior'>, (<ufunc 'equal'>, 'categorical', 'categorical'): <function _categorical_equal at 0x000002ADE854BA60>, (<class 'numpy.ufunc'>, 'categorical'): <function _apply_ufunc at 0x000002ADE854BAF0>, 'LorentzXYZT': <class '__main__.LorentzXYZT'>, ('*', 'LorentzXYZT'): <class '__main__.LorentzXYZTArray'>, (<ufunc 'add'>, 'LorentzXYZT', 'LorentzXYZT'): <function lorentz_add_xyz_xyz at 0x000002ADD899B310>, ('__numba_typer__', 'LorentzXYZT', 'pt'): <function typer_lorentz_xyz_pt at 0x000002ADF7CB0940>, ('__numba_lower__', 'LorentzXYZT', 'pt'): <function lower_lorentz_xyz_pt at 0x000002ADF7CB0820>, ('__numba_typer__', 'LorentzXYZT', <built-in function eq>, 'LorentzXYZT'): <function typer_lorentz_xyz_eq at 0x000002ADF7CB0AF0>, ('__numba_lower__', 'LorentzXYZT', <built-in function eq>, 'LorentzXYZT'): <function lower_lorentz_xyz_eq at 0x000002ADF7CB05E0>}, ())))':\u001b[0m\n\u001b[1m   No match for registered cases:\n    * (bool, bool) -> bool\n    * (int8, int8) -> bool\n    * (int16, int16) -> bool\n    * (int32, int32) -> bool\n    * (int64, int64) -> bool\n    * (uint8, uint8) -> bool\n    * (uint16, uint16) -> bool\n    * (uint32, uint32) -> bool\n    * (uint64, uint64) -> bool\n    * (float32, float32) -> bool\n    * (float64, float64) -> bool\n    * (complex64, complex64) -> bool\n    * (complex128, complex128) -> bool\u001b[0m\n\u001b[1m  - Of which 2 did not match due to:\n  Overload in function 'register_binary_operator.<locals>.type_binary_operator.generic': File: awkward\\_connect\\_numba\\arrayview.py: Line 987.\n    With argument(s): '(ak.RecordViewType(ak.ArrayView(ak.RecordArrayType((ak.NumpyArrayType(array(float32, 1d, A), none, {}), ak.NumpyArrayType(array(float32, 1d, A), none, {}), ak.NumpyArrayType(array(float32, 1d, A), none, {}), ak.NumpyArrayType(array(float32, 1d, A), none, {})), (('x', 'y', 'z', 't')), none, {\"__record__\": \"LorentzXYZT\"}), {'byte': <class 'awkward.behaviors.string.ByteBehavior'>, ('__typestr__', 'byte'): 'byte', 'char': <class 'awkward.behaviors.string.CharBehavior'>, ('__typestr__', 'char'): 'char', 'bytestring': <class 'awkward.behaviors.string.ByteStringBehavior'>, ('__typestr__', 'bytestring'): 'bytes', 'string': <class 'awkward.behaviors.string.StringBehavior'>, ('__typestr__', 'string'): 'string', (<ufunc 'equal'>, 'bytestring', 'bytestring'): <function _string_equal at 0x000002ADE8547700>, (<ufunc 'equal'>, 'string', 'string'): <function _string_equal at 0x000002ADE8547700>, (<ufunc 'not_equal'>, 'bytestring', 'bytestring'): <function _string_notequal at 0x000002ADE854B310>, (<ufunc 'not_equal'>, 'string', 'string'): <function _string_notequal at 0x000002ADE854B310>, ('__broadcast__', 'bytestring'): <function _string_broadcast at 0x000002ADE854B3A0>, ('__broadcast__', 'string'): <function _string_broadcast at 0x000002ADE854B3A0>, ('__numba_typer__', 'bytestring'): <function _string_numba_typer at 0x000002ADE854B430>, ('__numba_lower__', 'bytestring'): <function _string_numba_lower at 0x000002ADE854B4C0>, ('__numba_typer__', 'string'): <function _string_numba_typer at 0x000002ADE854B430>, ('__numba_lower__', 'string'): <function _string_numba_lower at 0x000002ADE854B4C0>, 'categorical': <class 'awkward.behaviors.categorical.CategoricalBehavior'>, (<ufunc 'equal'>, 'categorical', 'categorical'): <function _categorical_equal at 0x000002ADE854BA60>, (<class 'numpy.ufunc'>, 'categorical'): <function _apply_ufunc at 0x000002ADE854BAF0>, 'LorentzXYZT': <class '__main__.LorentzXYZT'>, ('*', 'LorentzXYZT'): <class '__main__.LorentzXYZTArray'>, (<ufunc 'add'>, 'LorentzXYZT', 'LorentzXYZT'): <function lorentz_add_xyz_xyz at 0x000002ADD899B310>, ('__numba_typer__', 'LorentzXYZT', 'pt'): <function typer_lorentz_xyz_pt at 0x000002ADF7CB0940>, ('__numba_lower__', 'LorentzXYZT', 'pt'): <function lower_lorentz_xyz_pt at 0x000002ADF7CB0820>, ('__numba_typer__', 'LorentzXYZT', <built-in function eq>, 'LorentzXYZT'): <function typer_lorentz_xyz_eq at 0x000002ADF7CB0AF0>, ('__numba_lower__', 'LorentzXYZT', <built-in function eq>, 'LorentzXYZT'): <function lower_lorentz_xyz_eq at 0x000002ADF7CB05E0>}, ())), ak.RecordViewType(ak.ArrayView(ak.RecordArrayType((ak.NumpyArrayType(array(float32, 1d, A), none, {}), ak.NumpyArrayType(array(float32, 1d, A), none, {}), ak.NumpyArrayType(array(float32, 1d, A), none, {}), ak.NumpyArrayType(array(float32, 1d, A), none, {})), (('x', 'y', 'z', 't')), none, {\"__record__\": \"LorentzXYZT\"}), {'byte': <class 'awkward.behaviors.string.ByteBehavior'>, ('__typestr__', 'byte'): 'byte', 'char': <class 'awkward.behaviors.string.CharBehavior'>, ('__typestr__', 'char'): 'char', 'bytestring': <class 'awkward.behaviors.string.ByteStringBehavior'>, ('__typestr__', 'bytestring'): 'bytes', 'string': <class 'awkward.behaviors.string.StringBehavior'>, ('__typestr__', 'string'): 'string', (<ufunc 'equal'>, 'bytestring', 'bytestring'): <function _string_equal at 0x000002ADE8547700>, (<ufunc 'equal'>, 'string', 'string'): <function _string_equal at 0x000002ADE8547700>, (<ufunc 'not_equal'>, 'bytestring', 'bytestring'): <function _string_notequal at 0x000002ADE854B310>, (<ufunc 'not_equal'>, 'string', 'string'): <function _string_notequal at 0x000002ADE854B310>, ('__broadcast__', 'bytestring'): <function _string_broadcast at 0x000002ADE854B3A0>, ('__broadcast__', 'string'): <function _string_broadcast at 0x000002ADE854B3A0>, ('__numba_typer__', 'bytestring'): <function _string_numba_typer at 0x000002ADE854B430>, ('__numba_lower__', 'bytestring'): <function _string_numba_lower at 0x000002ADE854B4C0>, ('__numba_typer__', 'string'): <function _string_numba_typer at 0x000002ADE854B430>, ('__numba_lower__', 'string'): <function _string_numba_lower at 0x000002ADE854B4C0>, 'categorical': <class 'awkward.behaviors.categorical.CategoricalBehavior'>, (<ufunc 'equal'>, 'categorical', 'categorical'): <function _categorical_equal at 0x000002ADE854BA60>, (<class 'numpy.ufunc'>, 'categorical'): <function _apply_ufunc at 0x000002ADE854BAF0>, 'LorentzXYZT': <class '__main__.LorentzXYZT'>, ('*', 'LorentzXYZT'): <class '__main__.LorentzXYZTArray'>, (<ufunc 'add'>, 'LorentzXYZT', 'LorentzXYZT'): <function lorentz_add_xyz_xyz at 0x000002ADD899B310>, ('__numba_typer__', 'LorentzXYZT', 'pt'): <function typer_lorentz_xyz_pt at 0x000002ADF7CB0940>, ('__numba_lower__', 'LorentzXYZT', 'pt'): <function lower_lorentz_xyz_pt at 0x000002ADF7CB0820>, ('__numba_typer__', 'LorentzXYZT', <built-in function eq>, 'LorentzXYZT'): <function typer_lorentz_xyz_eq at 0x000002ADF7CB0AF0>, ('__numba_lower__', 'LorentzXYZT', <built-in function eq>, 'LorentzXYZT'): <function lower_lorentz_xyz_eq at 0x000002ADF7CB05E0>}, ())))':\u001b[0m\n\u001b[1m   Rejected as the implementation raised a specific error:\n     TypeError: unsupported operand type(s) for /: 'Signature' and 'str'\u001b[0m\n  raised from C:\\Users\\Saransh\\AppData\\Local\\Temp\\ipykernel_19540\\1416581509.py:2\n\u001b[0m\n\u001b[0m\u001b[1mDuring: typing of intrinsic-call at C:\\Users\\Saransh\\AppData\\Local\\Temp\\ipykernel_19540\\280811015.py (12)\u001b[0m\n\u001b[1m\nFile \"C:\\Users\\Saransh\\AppData\\Local\\Temp\\ipykernel_19540\\280811015.py\", line 12:\u001b[0m\n\u001b[1mdef check_equality(input, output):\n    <source elided>\n            for j in range(i, len(muons)):\n\u001b[1m                output.append(muons[i] == muons[j])\n\u001b[0m                \u001b[1m^\u001b[0m\u001b[0m\n",
     "output_type": "error",
     "traceback": [
      "\u001b[1;31m---------------------------------------------------------------------------\u001b[0m",
      "\u001b[1;31mTypingError\u001b[0m                               Traceback (most recent call last)",
      "Cell \u001b[1;32mIn [16], line 19\u001b[0m\n\u001b[0;32m     15\u001b[0m         output\u001b[38;5;241m.\u001b[39mend_list()\n\u001b[0;32m     18\u001b[0m output \u001b[38;5;241m=\u001b[39m ak\u001b[38;5;241m.\u001b[39mArrayBuilder(behavior\u001b[38;5;241m=\u001b[39mlorentzbehavior)\n\u001b[1;32m---> 19\u001b[0m \u001b[43mcheck_equality\u001b[49m\u001b[43m(\u001b[49m\u001b[43mexample4\u001b[49m\u001b[43m,\u001b[49m\u001b[43m \u001b[49m\u001b[43moutput\u001b[49m\u001b[43m)\u001b[49m\n\u001b[0;32m     21\u001b[0m \u001b[38;5;28mprint\u001b[39m(output\u001b[38;5;241m.\u001b[39msnapshot())\n",
      "File \u001b[1;32m~\\Saransh_softwares\\Python_3.9\\lib\\site-packages\\numba\\core\\dispatcher.py:468\u001b[0m, in \u001b[0;36m_DispatcherBase._compile_for_args\u001b[1;34m(self, *args, **kws)\u001b[0m\n\u001b[0;32m    464\u001b[0m         msg \u001b[38;5;241m=\u001b[39m (\u001b[38;5;124mf\u001b[39m\u001b[38;5;124m\"\u001b[39m\u001b[38;5;132;01m{\u001b[39;00m\u001b[38;5;28mstr\u001b[39m(e)\u001b[38;5;241m.\u001b[39mrstrip()\u001b[38;5;132;01m}\u001b[39;00m\u001b[38;5;124m \u001b[39m\u001b[38;5;130;01m\\n\u001b[39;00m\u001b[38;5;130;01m\\n\u001b[39;00m\u001b[38;5;124mThis error may have been caused \u001b[39m\u001b[38;5;124m\"\u001b[39m\n\u001b[0;32m    465\u001b[0m                \u001b[38;5;124mf\u001b[39m\u001b[38;5;124m\"\u001b[39m\u001b[38;5;124mby the following argument(s):\u001b[39m\u001b[38;5;130;01m\\n\u001b[39;00m\u001b[38;5;132;01m{\u001b[39;00margs_str\u001b[38;5;132;01m}\u001b[39;00m\u001b[38;5;130;01m\\n\u001b[39;00m\u001b[38;5;124m\"\u001b[39m)\n\u001b[0;32m    466\u001b[0m         e\u001b[38;5;241m.\u001b[39mpatch_message(msg)\n\u001b[1;32m--> 468\u001b[0m     \u001b[43merror_rewrite\u001b[49m\u001b[43m(\u001b[49m\u001b[43me\u001b[49m\u001b[43m,\u001b[49m\u001b[43m \u001b[49m\u001b[38;5;124;43m'\u001b[39;49m\u001b[38;5;124;43mtyping\u001b[39;49m\u001b[38;5;124;43m'\u001b[39;49m\u001b[43m)\u001b[49m\n\u001b[0;32m    469\u001b[0m \u001b[38;5;28;01mexcept\u001b[39;00m errors\u001b[38;5;241m.\u001b[39mUnsupportedError \u001b[38;5;28;01mas\u001b[39;00m e:\n\u001b[0;32m    470\u001b[0m     \u001b[38;5;66;03m# Something unsupported is present in the user code, add help info\u001b[39;00m\n\u001b[0;32m    471\u001b[0m     error_rewrite(e, \u001b[38;5;124m'\u001b[39m\u001b[38;5;124munsupported_error\u001b[39m\u001b[38;5;124m'\u001b[39m)\n",
      "File \u001b[1;32m~\\Saransh_softwares\\Python_3.9\\lib\\site-packages\\numba\\core\\dispatcher.py:409\u001b[0m, in \u001b[0;36m_DispatcherBase._compile_for_args.<locals>.error_rewrite\u001b[1;34m(e, issue_type)\u001b[0m\n\u001b[0;32m    407\u001b[0m     \u001b[38;5;28;01mraise\u001b[39;00m e\n\u001b[0;32m    408\u001b[0m \u001b[38;5;28;01melse\u001b[39;00m:\n\u001b[1;32m--> 409\u001b[0m     \u001b[38;5;28;01mraise\u001b[39;00m e\u001b[38;5;241m.\u001b[39mwith_traceback(\u001b[38;5;28;01mNone\u001b[39;00m)\n",
      "\u001b[1;31mTypingError\u001b[0m: Failed in nopython mode pipeline (step: nopython frontend)\n\u001b[1m\u001b[1mNo implementation of function Function(<built-in function eq>) found for signature:\n \n >>> eq(ak.RecordViewType(ak.ArrayView(ak.RecordArrayType((ak.NumpyArrayType(array(float32, 1d, A), none, {}), ak.NumpyArrayType(array(float32, 1d, A), none, {}), ak.NumpyArrayType(array(float32, 1d, A), none, {}), ak.NumpyArrayType(array(float32, 1d, A), none, {})), (('x', 'y', 'z', 't')), none, {\"__record__\": \"LorentzXYZT\"}), {'byte': <class 'awkward.behaviors.string.ByteBehavior'>, ('__typestr__', 'byte'): 'byte', 'char': <class 'awkward.behaviors.string.CharBehavior'>, ('__typestr__', 'char'): 'char', 'bytestring': <class 'awkward.behaviors.string.ByteStringBehavior'>, ('__typestr__', 'bytestring'): 'bytes', 'string': <class 'awkward.behaviors.string.StringBehavior'>, ('__typestr__', 'string'): 'string', (<ufunc 'equal'>, 'bytestring', 'bytestring'): <function _string_equal at 0x000002ADE8547700>, (<ufunc 'equal'>, 'string', 'string'): <function _string_equal at 0x000002ADE8547700>, (<ufunc 'not_equal'>, 'bytestring', 'bytestring'): <function _string_notequal at 0x000002ADE854B310>, (<ufunc 'not_equal'>, 'string', 'string'): <function _string_notequal at 0x000002ADE854B310>, ('__broadcast__', 'bytestring'): <function _string_broadcast at 0x000002ADE854B3A0>, ('__broadcast__', 'string'): <function _string_broadcast at 0x000002ADE854B3A0>, ('__numba_typer__', 'bytestring'): <function _string_numba_typer at 0x000002ADE854B430>, ('__numba_lower__', 'bytestring'): <function _string_numba_lower at 0x000002ADE854B4C0>, ('__numba_typer__', 'string'): <function _string_numba_typer at 0x000002ADE854B430>, ('__numba_lower__', 'string'): <function _string_numba_lower at 0x000002ADE854B4C0>, 'categorical': <class 'awkward.behaviors.categorical.CategoricalBehavior'>, (<ufunc 'equal'>, 'categorical', 'categorical'): <function _categorical_equal at 0x000002ADE854BA60>, (<class 'numpy.ufunc'>, 'categorical'): <function _apply_ufunc at 0x000002ADE854BAF0>, 'LorentzXYZT': <class '__main__.LorentzXYZT'>, ('*', 'LorentzXYZT'): <class '__main__.LorentzXYZTArray'>, (<ufunc 'add'>, 'LorentzXYZT', 'LorentzXYZT'): <function lorentz_add_xyz_xyz at 0x000002ADD899B310>, ('__numba_typer__', 'LorentzXYZT', 'pt'): <function typer_lorentz_xyz_pt at 0x000002ADF7CB0940>, ('__numba_lower__', 'LorentzXYZT', 'pt'): <function lower_lorentz_xyz_pt at 0x000002ADF7CB0820>, ('__numba_typer__', 'LorentzXYZT', <built-in function eq>, 'LorentzXYZT'): <function typer_lorentz_xyz_eq at 0x000002ADF7CB0AF0>, ('__numba_lower__', 'LorentzXYZT', <built-in function eq>, 'LorentzXYZT'): <function lower_lorentz_xyz_eq at 0x000002ADF7CB05E0>}, ())), ak.RecordViewType(ak.ArrayView(ak.RecordArrayType((ak.NumpyArrayType(array(float32, 1d, A), none, {}), ak.NumpyArrayType(array(float32, 1d, A), none, {}), ak.NumpyArrayType(array(float32, 1d, A), none, {}), ak.NumpyArrayType(array(float32, 1d, A), none, {})), (('x', 'y', 'z', 't')), none, {\"__record__\": \"LorentzXYZT\"}), {'byte': <class 'awkward.behaviors.string.ByteBehavior'>, ('__typestr__', 'byte'): 'byte', 'char': <class 'awkward.behaviors.string.CharBehavior'>, ('__typestr__', 'char'): 'char', 'bytestring': <class 'awkward.behaviors.string.ByteStringBehavior'>, ('__typestr__', 'bytestring'): 'bytes', 'string': <class 'awkward.behaviors.string.StringBehavior'>, ('__typestr__', 'string'): 'string', (<ufunc 'equal'>, 'bytestring', 'bytestring'): <function _string_equal at 0x000002ADE8547700>, (<ufunc 'equal'>, 'string', 'string'): <function _string_equal at 0x000002ADE8547700>, (<ufunc 'not_equal'>, 'bytestring', 'bytestring'): <function _string_notequal at 0x000002ADE854B310>, (<ufunc 'not_equal'>, 'string', 'string'): <function _string_notequal at 0x000002ADE854B310>, ('__broadcast__', 'bytestring'): <function _string_broadcast at 0x000002ADE854B3A0>, ('__broadcast__', 'string'): <function _string_broadcast at 0x000002ADE854B3A0>, ('__numba_typer__', 'bytestring'): <function _string_numba_typer at 0x000002ADE854B430>, ('__numba_lower__', 'bytestring'): <function _string_numba_lower at 0x000002ADE854B4C0>, ('__numba_typer__', 'string'): <function _string_numba_typer at 0x000002ADE854B430>, ('__numba_lower__', 'string'): <function _string_numba_lower at 0x000002ADE854B4C0>, 'categorical': <class 'awkward.behaviors.categorical.CategoricalBehavior'>, (<ufunc 'equal'>, 'categorical', 'categorical'): <function _categorical_equal at 0x000002ADE854BA60>, (<class 'numpy.ufunc'>, 'categorical'): <function _apply_ufunc at 0x000002ADE854BAF0>, 'LorentzXYZT': <class '__main__.LorentzXYZT'>, ('*', 'LorentzXYZT'): <class '__main__.LorentzXYZTArray'>, (<ufunc 'add'>, 'LorentzXYZT', 'LorentzXYZT'): <function lorentz_add_xyz_xyz at 0x000002ADD899B310>, ('__numba_typer__', 'LorentzXYZT', 'pt'): <function typer_lorentz_xyz_pt at 0x000002ADF7CB0940>, ('__numba_lower__', 'LorentzXYZT', 'pt'): <function lower_lorentz_xyz_pt at 0x000002ADF7CB0820>, ('__numba_typer__', 'LorentzXYZT', <built-in function eq>, 'LorentzXYZT'): <function typer_lorentz_xyz_eq at 0x000002ADF7CB0AF0>, ('__numba_lower__', 'LorentzXYZT', <built-in function eq>, 'LorentzXYZT'): <function lower_lorentz_xyz_eq at 0x000002ADF7CB05E0>}, ())))\n \nThere are 38 candidate implementations:\n\u001b[1m  - Of which 34 did not match due to:\n  Overload of function 'eq': File: <numerous>: Line N/A.\n    With argument(s): '(ak.RecordViewType(ak.ArrayView(ak.RecordArrayType((ak.NumpyArrayType(array(float32, 1d, A), none, {}), ak.NumpyArrayType(array(float32, 1d, A), none, {}), ak.NumpyArrayType(array(float32, 1d, A), none, {}), ak.NumpyArrayType(array(float32, 1d, A), none, {})), (('x', 'y', 'z', 't')), none, {\"__record__\": \"LorentzXYZT\"}), {'byte': <class 'awkward.behaviors.string.ByteBehavior'>, ('__typestr__', 'byte'): 'byte', 'char': <class 'awkward.behaviors.string.CharBehavior'>, ('__typestr__', 'char'): 'char', 'bytestring': <class 'awkward.behaviors.string.ByteStringBehavior'>, ('__typestr__', 'bytestring'): 'bytes', 'string': <class 'awkward.behaviors.string.StringBehavior'>, ('__typestr__', 'string'): 'string', (<ufunc 'equal'>, 'bytestring', 'bytestring'): <function _string_equal at 0x000002ADE8547700>, (<ufunc 'equal'>, 'string', 'string'): <function _string_equal at 0x000002ADE8547700>, (<ufunc 'not_equal'>, 'bytestring', 'bytestring'): <function _string_notequal at 0x000002ADE854B310>, (<ufunc 'not_equal'>, 'string', 'string'): <function _string_notequal at 0x000002ADE854B310>, ('__broadcast__', 'bytestring'): <function _string_broadcast at 0x000002ADE854B3A0>, ('__broadcast__', 'string'): <function _string_broadcast at 0x000002ADE854B3A0>, ('__numba_typer__', 'bytestring'): <function _string_numba_typer at 0x000002ADE854B430>, ('__numba_lower__', 'bytestring'): <function _string_numba_lower at 0x000002ADE854B4C0>, ('__numba_typer__', 'string'): <function _string_numba_typer at 0x000002ADE854B430>, ('__numba_lower__', 'string'): <function _string_numba_lower at 0x000002ADE854B4C0>, 'categorical': <class 'awkward.behaviors.categorical.CategoricalBehavior'>, (<ufunc 'equal'>, 'categorical', 'categorical'): <function _categorical_equal at 0x000002ADE854BA60>, (<class 'numpy.ufunc'>, 'categorical'): <function _apply_ufunc at 0x000002ADE854BAF0>, 'LorentzXYZT': <class '__main__.LorentzXYZT'>, ('*', 'LorentzXYZT'): <class '__main__.LorentzXYZTArray'>, (<ufunc 'add'>, 'LorentzXYZT', 'LorentzXYZT'): <function lorentz_add_xyz_xyz at 0x000002ADD899B310>, ('__numba_typer__', 'LorentzXYZT', 'pt'): <function typer_lorentz_xyz_pt at 0x000002ADF7CB0940>, ('__numba_lower__', 'LorentzXYZT', 'pt'): <function lower_lorentz_xyz_pt at 0x000002ADF7CB0820>, ('__numba_typer__', 'LorentzXYZT', <built-in function eq>, 'LorentzXYZT'): <function typer_lorentz_xyz_eq at 0x000002ADF7CB0AF0>, ('__numba_lower__', 'LorentzXYZT', <built-in function eq>, 'LorentzXYZT'): <function lower_lorentz_xyz_eq at 0x000002ADF7CB05E0>}, ())), ak.RecordViewType(ak.ArrayView(ak.RecordArrayType((ak.NumpyArrayType(array(float32, 1d, A), none, {}), ak.NumpyArrayType(array(float32, 1d, A), none, {}), ak.NumpyArrayType(array(float32, 1d, A), none, {}), ak.NumpyArrayType(array(float32, 1d, A), none, {})), (('x', 'y', 'z', 't')), none, {\"__record__\": \"LorentzXYZT\"}), {'byte': <class 'awkward.behaviors.string.ByteBehavior'>, ('__typestr__', 'byte'): 'byte', 'char': <class 'awkward.behaviors.string.CharBehavior'>, ('__typestr__', 'char'): 'char', 'bytestring': <class 'awkward.behaviors.string.ByteStringBehavior'>, ('__typestr__', 'bytestring'): 'bytes', 'string': <class 'awkward.behaviors.string.StringBehavior'>, ('__typestr__', 'string'): 'string', (<ufunc 'equal'>, 'bytestring', 'bytestring'): <function _string_equal at 0x000002ADE8547700>, (<ufunc 'equal'>, 'string', 'string'): <function _string_equal at 0x000002ADE8547700>, (<ufunc 'not_equal'>, 'bytestring', 'bytestring'): <function _string_notequal at 0x000002ADE854B310>, (<ufunc 'not_equal'>, 'string', 'string'): <function _string_notequal at 0x000002ADE854B310>, ('__broadcast__', 'bytestring'): <function _string_broadcast at 0x000002ADE854B3A0>, ('__broadcast__', 'string'): <function _string_broadcast at 0x000002ADE854B3A0>, ('__numba_typer__', 'bytestring'): <function _string_numba_typer at 0x000002ADE854B430>, ('__numba_lower__', 'bytestring'): <function _string_numba_lower at 0x000002ADE854B4C0>, ('__numba_typer__', 'string'): <function _string_numba_typer at 0x000002ADE854B430>, ('__numba_lower__', 'string'): <function _string_numba_lower at 0x000002ADE854B4C0>, 'categorical': <class 'awkward.behaviors.categorical.CategoricalBehavior'>, (<ufunc 'equal'>, 'categorical', 'categorical'): <function _categorical_equal at 0x000002ADE854BA60>, (<class 'numpy.ufunc'>, 'categorical'): <function _apply_ufunc at 0x000002ADE854BAF0>, 'LorentzXYZT': <class '__main__.LorentzXYZT'>, ('*', 'LorentzXYZT'): <class '__main__.LorentzXYZTArray'>, (<ufunc 'add'>, 'LorentzXYZT', 'LorentzXYZT'): <function lorentz_add_xyz_xyz at 0x000002ADD899B310>, ('__numba_typer__', 'LorentzXYZT', 'pt'): <function typer_lorentz_xyz_pt at 0x000002ADF7CB0940>, ('__numba_lower__', 'LorentzXYZT', 'pt'): <function lower_lorentz_xyz_pt at 0x000002ADF7CB0820>, ('__numba_typer__', 'LorentzXYZT', <built-in function eq>, 'LorentzXYZT'): <function typer_lorentz_xyz_eq at 0x000002ADF7CB0AF0>, ('__numba_lower__', 'LorentzXYZT', <built-in function eq>, 'LorentzXYZT'): <function lower_lorentz_xyz_eq at 0x000002ADF7CB05E0>}, ())))':\u001b[0m\n\u001b[1m   No match.\u001b[0m\n\u001b[1m  - Of which 2 did not match due to:\n  Operator Overload in function 'eq': File: unknown: Line unknown.\n    With argument(s): '(ak.RecordViewType(ak.ArrayView(ak.RecordArrayType((ak.NumpyArrayType(array(float32, 1d, A), none, {}), ak.NumpyArrayType(array(float32, 1d, A), none, {}), ak.NumpyArrayType(array(float32, 1d, A), none, {}), ak.NumpyArrayType(array(float32, 1d, A), none, {})), (('x', 'y', 'z', 't')), none, {\"__record__\": \"LorentzXYZT\"}), {'byte': <class 'awkward.behaviors.string.ByteBehavior'>, ('__typestr__', 'byte'): 'byte', 'char': <class 'awkward.behaviors.string.CharBehavior'>, ('__typestr__', 'char'): 'char', 'bytestring': <class 'awkward.behaviors.string.ByteStringBehavior'>, ('__typestr__', 'bytestring'): 'bytes', 'string': <class 'awkward.behaviors.string.StringBehavior'>, ('__typestr__', 'string'): 'string', (<ufunc 'equal'>, 'bytestring', 'bytestring'): <function _string_equal at 0x000002ADE8547700>, (<ufunc 'equal'>, 'string', 'string'): <function _string_equal at 0x000002ADE8547700>, (<ufunc 'not_equal'>, 'bytestring', 'bytestring'): <function _string_notequal at 0x000002ADE854B310>, (<ufunc 'not_equal'>, 'string', 'string'): <function _string_notequal at 0x000002ADE854B310>, ('__broadcast__', 'bytestring'): <function _string_broadcast at 0x000002ADE854B3A0>, ('__broadcast__', 'string'): <function _string_broadcast at 0x000002ADE854B3A0>, ('__numba_typer__', 'bytestring'): <function _string_numba_typer at 0x000002ADE854B430>, ('__numba_lower__', 'bytestring'): <function _string_numba_lower at 0x000002ADE854B4C0>, ('__numba_typer__', 'string'): <function _string_numba_typer at 0x000002ADE854B430>, ('__numba_lower__', 'string'): <function _string_numba_lower at 0x000002ADE854B4C0>, 'categorical': <class 'awkward.behaviors.categorical.CategoricalBehavior'>, (<ufunc 'equal'>, 'categorical', 'categorical'): <function _categorical_equal at 0x000002ADE854BA60>, (<class 'numpy.ufunc'>, 'categorical'): <function _apply_ufunc at 0x000002ADE854BAF0>, 'LorentzXYZT': <class '__main__.LorentzXYZT'>, ('*', 'LorentzXYZT'): <class '__main__.LorentzXYZTArray'>, (<ufunc 'add'>, 'LorentzXYZT', 'LorentzXYZT'): <function lorentz_add_xyz_xyz at 0x000002ADD899B310>, ('__numba_typer__', 'LorentzXYZT', 'pt'): <function typer_lorentz_xyz_pt at 0x000002ADF7CB0940>, ('__numba_lower__', 'LorentzXYZT', 'pt'): <function lower_lorentz_xyz_pt at 0x000002ADF7CB0820>, ('__numba_typer__', 'LorentzXYZT', <built-in function eq>, 'LorentzXYZT'): <function typer_lorentz_xyz_eq at 0x000002ADF7CB0AF0>, ('__numba_lower__', 'LorentzXYZT', <built-in function eq>, 'LorentzXYZT'): <function lower_lorentz_xyz_eq at 0x000002ADF7CB05E0>}, ())), ak.RecordViewType(ak.ArrayView(ak.RecordArrayType((ak.NumpyArrayType(array(float32, 1d, A), none, {}), ak.NumpyArrayType(array(float32, 1d, A), none, {}), ak.NumpyArrayType(array(float32, 1d, A), none, {}), ak.NumpyArrayType(array(float32, 1d, A), none, {})), (('x', 'y', 'z', 't')), none, {\"__record__\": \"LorentzXYZT\"}), {'byte': <class 'awkward.behaviors.string.ByteBehavior'>, ('__typestr__', 'byte'): 'byte', 'char': <class 'awkward.behaviors.string.CharBehavior'>, ('__typestr__', 'char'): 'char', 'bytestring': <class 'awkward.behaviors.string.ByteStringBehavior'>, ('__typestr__', 'bytestring'): 'bytes', 'string': <class 'awkward.behaviors.string.StringBehavior'>, ('__typestr__', 'string'): 'string', (<ufunc 'equal'>, 'bytestring', 'bytestring'): <function _string_equal at 0x000002ADE8547700>, (<ufunc 'equal'>, 'string', 'string'): <function _string_equal at 0x000002ADE8547700>, (<ufunc 'not_equal'>, 'bytestring', 'bytestring'): <function _string_notequal at 0x000002ADE854B310>, (<ufunc 'not_equal'>, 'string', 'string'): <function _string_notequal at 0x000002ADE854B310>, ('__broadcast__', 'bytestring'): <function _string_broadcast at 0x000002ADE854B3A0>, ('__broadcast__', 'string'): <function _string_broadcast at 0x000002ADE854B3A0>, ('__numba_typer__', 'bytestring'): <function _string_numba_typer at 0x000002ADE854B430>, ('__numba_lower__', 'bytestring'): <function _string_numba_lower at 0x000002ADE854B4C0>, ('__numba_typer__', 'string'): <function _string_numba_typer at 0x000002ADE854B430>, ('__numba_lower__', 'string'): <function _string_numba_lower at 0x000002ADE854B4C0>, 'categorical': <class 'awkward.behaviors.categorical.CategoricalBehavior'>, (<ufunc 'equal'>, 'categorical', 'categorical'): <function _categorical_equal at 0x000002ADE854BA60>, (<class 'numpy.ufunc'>, 'categorical'): <function _apply_ufunc at 0x000002ADE854BAF0>, 'LorentzXYZT': <class '__main__.LorentzXYZT'>, ('*', 'LorentzXYZT'): <class '__main__.LorentzXYZTArray'>, (<ufunc 'add'>, 'LorentzXYZT', 'LorentzXYZT'): <function lorentz_add_xyz_xyz at 0x000002ADD899B310>, ('__numba_typer__', 'LorentzXYZT', 'pt'): <function typer_lorentz_xyz_pt at 0x000002ADF7CB0940>, ('__numba_lower__', 'LorentzXYZT', 'pt'): <function lower_lorentz_xyz_pt at 0x000002ADF7CB0820>, ('__numba_typer__', 'LorentzXYZT', <built-in function eq>, 'LorentzXYZT'): <function typer_lorentz_xyz_eq at 0x000002ADF7CB0AF0>, ('__numba_lower__', 'LorentzXYZT', <built-in function eq>, 'LorentzXYZT'): <function lower_lorentz_xyz_eq at 0x000002ADF7CB05E0>}, ())))':\u001b[0m\n\u001b[1m   No match for registered cases:\n    * (bool, bool) -> bool\n    * (int8, int8) -> bool\n    * (int16, int16) -> bool\n    * (int32, int32) -> bool\n    * (int64, int64) -> bool\n    * (uint8, uint8) -> bool\n    * (uint16, uint16) -> bool\n    * (uint32, uint32) -> bool\n    * (uint64, uint64) -> bool\n    * (float32, float32) -> bool\n    * (float64, float64) -> bool\n    * (complex64, complex64) -> bool\n    * (complex128, complex128) -> bool\u001b[0m\n\u001b[1m  - Of which 2 did not match due to:\n  Overload in function 'register_binary_operator.<locals>.type_binary_operator.generic': File: awkward\\_connect\\_numba\\arrayview.py: Line 987.\n    With argument(s): '(ak.RecordViewType(ak.ArrayView(ak.RecordArrayType((ak.NumpyArrayType(array(float32, 1d, A), none, {}), ak.NumpyArrayType(array(float32, 1d, A), none, {}), ak.NumpyArrayType(array(float32, 1d, A), none, {}), ak.NumpyArrayType(array(float32, 1d, A), none, {})), (('x', 'y', 'z', 't')), none, {\"__record__\": \"LorentzXYZT\"}), {'byte': <class 'awkward.behaviors.string.ByteBehavior'>, ('__typestr__', 'byte'): 'byte', 'char': <class 'awkward.behaviors.string.CharBehavior'>, ('__typestr__', 'char'): 'char', 'bytestring': <class 'awkward.behaviors.string.ByteStringBehavior'>, ('__typestr__', 'bytestring'): 'bytes', 'string': <class 'awkward.behaviors.string.StringBehavior'>, ('__typestr__', 'string'): 'string', (<ufunc 'equal'>, 'bytestring', 'bytestring'): <function _string_equal at 0x000002ADE8547700>, (<ufunc 'equal'>, 'string', 'string'): <function _string_equal at 0x000002ADE8547700>, (<ufunc 'not_equal'>, 'bytestring', 'bytestring'): <function _string_notequal at 0x000002ADE854B310>, (<ufunc 'not_equal'>, 'string', 'string'): <function _string_notequal at 0x000002ADE854B310>, ('__broadcast__', 'bytestring'): <function _string_broadcast at 0x000002ADE854B3A0>, ('__broadcast__', 'string'): <function _string_broadcast at 0x000002ADE854B3A0>, ('__numba_typer__', 'bytestring'): <function _string_numba_typer at 0x000002ADE854B430>, ('__numba_lower__', 'bytestring'): <function _string_numba_lower at 0x000002ADE854B4C0>, ('__numba_typer__', 'string'): <function _string_numba_typer at 0x000002ADE854B430>, ('__numba_lower__', 'string'): <function _string_numba_lower at 0x000002ADE854B4C0>, 'categorical': <class 'awkward.behaviors.categorical.CategoricalBehavior'>, (<ufunc 'equal'>, 'categorical', 'categorical'): <function _categorical_equal at 0x000002ADE854BA60>, (<class 'numpy.ufunc'>, 'categorical'): <function _apply_ufunc at 0x000002ADE854BAF0>, 'LorentzXYZT': <class '__main__.LorentzXYZT'>, ('*', 'LorentzXYZT'): <class '__main__.LorentzXYZTArray'>, (<ufunc 'add'>, 'LorentzXYZT', 'LorentzXYZT'): <function lorentz_add_xyz_xyz at 0x000002ADD899B310>, ('__numba_typer__', 'LorentzXYZT', 'pt'): <function typer_lorentz_xyz_pt at 0x000002ADF7CB0940>, ('__numba_lower__', 'LorentzXYZT', 'pt'): <function lower_lorentz_xyz_pt at 0x000002ADF7CB0820>, ('__numba_typer__', 'LorentzXYZT', <built-in function eq>, 'LorentzXYZT'): <function typer_lorentz_xyz_eq at 0x000002ADF7CB0AF0>, ('__numba_lower__', 'LorentzXYZT', <built-in function eq>, 'LorentzXYZT'): <function lower_lorentz_xyz_eq at 0x000002ADF7CB05E0>}, ())), ak.RecordViewType(ak.ArrayView(ak.RecordArrayType((ak.NumpyArrayType(array(float32, 1d, A), none, {}), ak.NumpyArrayType(array(float32, 1d, A), none, {}), ak.NumpyArrayType(array(float32, 1d, A), none, {}), ak.NumpyArrayType(array(float32, 1d, A), none, {})), (('x', 'y', 'z', 't')), none, {\"__record__\": \"LorentzXYZT\"}), {'byte': <class 'awkward.behaviors.string.ByteBehavior'>, ('__typestr__', 'byte'): 'byte', 'char': <class 'awkward.behaviors.string.CharBehavior'>, ('__typestr__', 'char'): 'char', 'bytestring': <class 'awkward.behaviors.string.ByteStringBehavior'>, ('__typestr__', 'bytestring'): 'bytes', 'string': <class 'awkward.behaviors.string.StringBehavior'>, ('__typestr__', 'string'): 'string', (<ufunc 'equal'>, 'bytestring', 'bytestring'): <function _string_equal at 0x000002ADE8547700>, (<ufunc 'equal'>, 'string', 'string'): <function _string_equal at 0x000002ADE8547700>, (<ufunc 'not_equal'>, 'bytestring', 'bytestring'): <function _string_notequal at 0x000002ADE854B310>, (<ufunc 'not_equal'>, 'string', 'string'): <function _string_notequal at 0x000002ADE854B310>, ('__broadcast__', 'bytestring'): <function _string_broadcast at 0x000002ADE854B3A0>, ('__broadcast__', 'string'): <function _string_broadcast at 0x000002ADE854B3A0>, ('__numba_typer__', 'bytestring'): <function _string_numba_typer at 0x000002ADE854B430>, ('__numba_lower__', 'bytestring'): <function _string_numba_lower at 0x000002ADE854B4C0>, ('__numba_typer__', 'string'): <function _string_numba_typer at 0x000002ADE854B430>, ('__numba_lower__', 'string'): <function _string_numba_lower at 0x000002ADE854B4C0>, 'categorical': <class 'awkward.behaviors.categorical.CategoricalBehavior'>, (<ufunc 'equal'>, 'categorical', 'categorical'): <function _categorical_equal at 0x000002ADE854BA60>, (<class 'numpy.ufunc'>, 'categorical'): <function _apply_ufunc at 0x000002ADE854BAF0>, 'LorentzXYZT': <class '__main__.LorentzXYZT'>, ('*', 'LorentzXYZT'): <class '__main__.LorentzXYZTArray'>, (<ufunc 'add'>, 'LorentzXYZT', 'LorentzXYZT'): <function lorentz_add_xyz_xyz at 0x000002ADD899B310>, ('__numba_typer__', 'LorentzXYZT', 'pt'): <function typer_lorentz_xyz_pt at 0x000002ADF7CB0940>, ('__numba_lower__', 'LorentzXYZT', 'pt'): <function lower_lorentz_xyz_pt at 0x000002ADF7CB0820>, ('__numba_typer__', 'LorentzXYZT', <built-in function eq>, 'LorentzXYZT'): <function typer_lorentz_xyz_eq at 0x000002ADF7CB0AF0>, ('__numba_lower__', 'LorentzXYZT', <built-in function eq>, 'LorentzXYZT'): <function lower_lorentz_xyz_eq at 0x000002ADF7CB05E0>}, ())))':\u001b[0m\n\u001b[1m   Rejected as the implementation raised a specific error:\n     TypeError: unsupported operand type(s) for /: 'Signature' and 'str'\u001b[0m\n  raised from C:\\Users\\Saransh\\AppData\\Local\\Temp\\ipykernel_19540\\1416581509.py:2\n\u001b[0m\n\u001b[0m\u001b[1mDuring: typing of intrinsic-call at C:\\Users\\Saransh\\AppData\\Local\\Temp\\ipykernel_19540\\280811015.py (12)\u001b[0m\n\u001b[1m\nFile \"C:\\Users\\Saransh\\AppData\\Local\\Temp\\ipykernel_19540\\280811015.py\", line 12:\u001b[0m\n\u001b[1mdef check_equality(input, output):\n    <source elided>\n            for j in range(i, len(muons)):\n\u001b[1m                output.append(muons[i] == muons[j])\n\u001b[0m                \u001b[1m^\u001b[0m\u001b[0m\n"
     ]
    }
   ],
   "source": [
    "example4 = ak.Array(example, behavior=lorentzbehavior)\n",
    "\n",
    "\n",
    "@nb.njit\n",
    "def check_equality(input, output):\n",
    "    for muons in input:\n",
    "        output.begin_list()\n",
    "\n",
    "        for i in range(len(muons)):\n",
    "            output.begin_list()\n",
    "            for j in range(i, len(muons)):\n",
    "                output.append(muons[i] == muons[j])\n",
    "            output.end_list()\n",
    "\n",
    "        output.end_list()\n",
    "\n",
    "\n",
    "output = ak.ArrayBuilder(behavior=lorentzbehavior)\n",
    "check_equality(example4, output)\n",
    "\n",
    "print(output.snapshot())"
   ]
  },
  {
   "cell_type": "markdown",
   "metadata": {},
   "source": [
    "### Aside: free vectors\n",
    "\n",
    "The trouble with `operator.add` is that it returns new objects.\n",
    "\n",
    "The records we have been dealing with are not free-floating objects; they're views\n",
    "into the arrays, and Awkward Arrays can't be created in Numba (that restriction gives\n",
    "us a lot of freedom and this model favors the development of a functional language).\n",
    "\n",
    "So we need to create a new Numba type that is a free-floating `LorentzXYZTCommon`.\n",
    "Fortunately, that's a more conventional task and serves as a good introduction to Numba."
   ]
  },
  {
   "cell_type": "code",
   "execution_count": 17,
   "metadata": {},
   "outputs": [],
   "source": [
    "class LorentzXYZTFree(LorentzXYZTCommon):\n",
    "    def __init__(self, x, y, z, t):\n",
    "        self.x = x\n",
    "        self.y = y\n",
    "        self.z = z\n",
    "        self.t = t\n",
    "\n",
    "    def __repr__(self):\n",
    "        return \"Lxyz({:.3g} {:.3g} {:.3g} {:.3g})\".format(\n",
    "            self.x, self.y, self.z, self.t\n",
    "        )\n",
    "\n",
    "    def __getitem__(self, attr):\n",
    "        # It has to behave the same way as the bound objects or users will get confused.\n",
    "        if attr in (\"x\", \"y\", \"z\", \"t\"):\n",
    "            return getattr(self, attr)\n",
    "        else:\n",
    "            raise ValueError(f\"key {json.dumps(attr)} does not exist (not in record)\")"
   ]
  },
  {
   "cell_type": "markdown",
   "metadata": {},
   "source": [
    "### Numba: Extending free vectors"
   ]
  },
  {
   "cell_type": "code",
   "execution_count": 18,
   "metadata": {},
   "outputs": [],
   "source": [
    "@nb.extending.typeof_impl.register(LorentzXYZTFree)\n",
    "def typeof_LorentzXYZTFree(obj, c):\n",
    "    return LorentzXYZTType()\n",
    "\n",
    "\n",
    "class LorentzXYZTType(nb.types.Type):\n",
    "    def __init__(self):\n",
    "        # Type names have to be unique identifiers; they determine whether Numba\n",
    "        # will recompile a function with new types.\n",
    "        super().__init__(name=\"LorentzXYZTType()\")\n",
    "\n",
    "\n",
    "@nb.extending.register_model(LorentzXYZTType)\n",
    "class LorentzXYZTModel(nb.extending.models.StructModel):\n",
    "    def __init__(self, dmm, fe_type):\n",
    "        # This is the C-style struct that will be used wherever LorentzXYZT are needed.\n",
    "        members = [\n",
    "            (\"x\", nb.float64),\n",
    "            (\"y\", nb.float64),\n",
    "            (\"z\", nb.float64),\n",
    "            (\"t\", nb.float64),\n",
    "        ]\n",
    "        super().__init__(dmm, fe_type, members)"
   ]
  },
  {
   "cell_type": "markdown",
   "metadata": {},
   "source": [
    "#### Unboxing and boxing:"
   ]
  },
  {
   "cell_type": "code",
   "execution_count": 19,
   "metadata": {},
   "outputs": [],
   "source": [
    "@nb.extending.unbox(LorentzXYZTType)\n",
    "def unbox_LorentzXYZT(lxyztype, lxyzobj, c):\n",
    "    # How to turn LorentzXYZTFree Python objects into LorentzXYZTModel structs.\n",
    "    x_obj = c.pyapi.object_getattr_string(lxyzobj, \"x\")\n",
    "    y_obj = c.pyapi.object_getattr_string(lxyzobj, \"y\")\n",
    "    z_obj = c.pyapi.object_getattr_string(lxyzobj, \"z\")\n",
    "    t_obj = c.pyapi.object_getattr_string(lxyzobj, \"t\")\n",
    "\n",
    "    # \"values\" are raw LLVM code; \"proxies\" have getattr/setattr logic to access fields.\n",
    "    outproxy = c.context.make_helper(c.builder, lxyztype)\n",
    "\n",
    "    # https://github.com/numba/numba/blob/master/numba/core/pythonapi.py\n",
    "    outproxy.x = c.pyapi.float_as_double(x_obj)\n",
    "    outproxy.y = c.pyapi.float_as_double(y_obj)\n",
    "    outproxy.z = c.pyapi.float_as_double(z_obj)\n",
    "    outproxy.t = c.pyapi.float_as_double(t_obj)\n",
    "\n",
    "    # Yes, we're in that world...\n",
    "    c.pyapi.decref(x_obj)\n",
    "    c.pyapi.decref(y_obj)\n",
    "    c.pyapi.decref(z_obj)\n",
    "    c.pyapi.decref(t_obj)\n",
    "\n",
    "    is_error = nb.core.cgutils.is_not_null(c.builder, c.pyapi.err_occurred())\n",
    "    return nb.extending.NativeValue(outproxy._getvalue(), is_error)\n",
    "\n",
    "\n",
    "@nb.extending.box(LorentzXYZTType)\n",
    "def box_LorentzXYZT(lxyztype, lxyzval, c):\n",
    "    # This proxy is initialized with a value, used for getattr, rather than setattr.\n",
    "    inproxy = c.context.make_helper(c.builder, lxyztype, lxyzval)\n",
    "    x_obj = c.pyapi.float_from_double(inproxy.x)\n",
    "    y_obj = c.pyapi.float_from_double(inproxy.y)\n",
    "    z_obj = c.pyapi.float_from_double(inproxy.z)\n",
    "    t_obj = c.pyapi.float_from_double(inproxy.t)\n",
    "\n",
    "    # The way we get Python objects into this lowered world is by pickling them.\n",
    "    LorentzXYZTFree_obj = c.pyapi.unserialize(c.pyapi.serialize_object(LorentzXYZTFree))\n",
    "\n",
    "    out = c.pyapi.call_function_objargs(\n",
    "        LorentzXYZTFree_obj, (x_obj, y_obj, z_obj, t_obj)\n",
    "    )\n",
    "\n",
    "    c.pyapi.decref(LorentzXYZTFree_obj)\n",
    "    c.pyapi.decref(x_obj)\n",
    "    c.pyapi.decref(y_obj)\n",
    "    c.pyapi.decref(z_obj)\n",
    "    c.pyapi.decref(t_obj)\n",
    "\n",
    "    return out"
   ]
  },
  {
   "cell_type": "markdown",
   "metadata": {},
   "source": [
    "#### Example\n",
    "\n",
    "Now we've defined enough that our objects can go into and come out of Numba."
   ]
  },
  {
   "cell_type": "code",
   "execution_count": 20,
   "metadata": {},
   "outputs": [
    {
     "name": "stdout",
     "output_type": "stream",
     "text": [
      "Lxyz(1 2 3 4)\n",
      "Lxyz(1 2 3 4) Lxyz(1 2 3 4)\n"
     ]
    }
   ],
   "source": [
    "testit = LorentzXYZTFree(1, 2, 3, 4)\n",
    "print(testit)\n",
    "\n",
    "\n",
    "@nb.njit\n",
    "def pass_through(obj):\n",
    "    return obj\n",
    "\n",
    "\n",
    "print(testit, pass_through(testit))"
   ]
  },
  {
   "cell_type": "markdown",
   "metadata": {},
   "source": [
    "Notice that the original has int fields and the passed-through has floats:"
   ]
  },
  {
   "cell_type": "code",
   "execution_count": 21,
   "metadata": {},
   "outputs": [
    {
     "name": "stdout",
     "output_type": "stream",
     "text": [
      "1 1.0\n"
     ]
    }
   ],
   "source": [
    "print(testit.x, pass_through(testit).x)"
   ]
  },
  {
   "cell_type": "markdown",
   "metadata": {},
   "source": [
    "### Numba: Constructors\n",
    "\n",
    "Defining an in-Numba constructor is a separate thing."
   ]
  },
  {
   "cell_type": "code",
   "execution_count": 22,
   "metadata": {},
   "outputs": [],
   "source": [
    "@nb.extending.type_callable(LorentzXYZTFree)\n",
    "def typer_LorentzXYZTFree_constructor(context):\n",
    "    def typer(x, y, z, t):\n",
    "        if (\n",
    "            x == nb.types.float64\n",
    "            and y == nb.types.float64\n",
    "            and z == nb.types.float64\n",
    "            and t == nb.types.float64\n",
    "        ):\n",
    "            return LorentzXYZTType()\n",
    "\n",
    "    return typer\n",
    "\n",
    "\n",
    "@nb.extending.lower_builtin(\n",
    "    LorentzXYZTFree,\n",
    "    nb.types.float64,\n",
    "    nb.types.float64,\n",
    "    nb.types.float64,\n",
    "    nb.types.float64,\n",
    ")\n",
    "def lower_LorentzXYZTFree_constructor(context, builder, sig, args):\n",
    "    rettype, (xtype, ytype, ztype, ttype) = sig.return_type, sig.args\n",
    "    xval, yval, zval, tval = args\n",
    "\n",
    "    outproxy = context.make_helper(builder, rettype)\n",
    "    outproxy.x = xval\n",
    "    outproxy.y = yval\n",
    "    outproxy.z = zval\n",
    "    outproxy.t = tval\n",
    "\n",
    "    return outproxy._getvalue()"
   ]
  },
  {
   "cell_type": "markdown",
   "metadata": {},
   "source": [
    "#### Example\n",
    "\n",
    "Test it!"
   ]
  },
  {
   "cell_type": "code",
   "execution_count": 23,
   "metadata": {},
   "outputs": [
    {
     "name": "stdout",
     "output_type": "stream",
     "text": [
      "Lxyz(1.1 2.2 3.3 4.4)\n"
     ]
    }
   ],
   "source": [
    "@nb.njit\n",
    "def test_constructor():\n",
    "    return LorentzXYZTFree(1.1, 2.2, 3.3, 4.4)\n",
    "\n",
    "\n",
    "print(test_constructor())"
   ]
  },
  {
   "cell_type": "markdown",
   "metadata": {},
   "source": [
    "### Numba: Methods and properties\n",
    "\n",
    "Now it's time to define the methods and properties.\n",
    "\n",
    "To simply map model attributes to user-accessible properties, use a macro."
   ]
  },
  {
   "cell_type": "code",
   "execution_count": 24,
   "metadata": {},
   "outputs": [],
   "source": [
    "nb.extending.make_attribute_wrapper(LorentzXYZTType, \"x\", \"x\")\n",
    "nb.extending.make_attribute_wrapper(LorentzXYZTType, \"y\", \"y\")\n",
    "nb.extending.make_attribute_wrapper(LorentzXYZTType, \"z\", \"z\")\n",
    "nb.extending.make_attribute_wrapper(LorentzXYZTType, \"t\", \"t\")"
   ]
  },
  {
   "cell_type": "markdown",
   "metadata": {},
   "source": [
    "For more general cases, there's an `AttributeTemplate`."
   ]
  },
  {
   "cell_type": "code",
   "execution_count": 25,
   "metadata": {},
   "outputs": [],
   "source": [
    "@nb.extending.infer_getattr\n",
    "class typer_LorentzXYZT_methods(nb.core.typing.templates.AttributeTemplate):\n",
    "    key = LorentzXYZTType\n",
    "\n",
    "    def generic_resolve(self, lxyztype, attr):\n",
    "        if attr == \"pt\":\n",
    "            return nb.float64\n",
    "        elif attr == \"eta\":\n",
    "            return nb.float64\n",
    "        elif attr == \"phi\":\n",
    "            return nb.float64\n",
    "        elif attr == \"mass\":\n",
    "            return nb.float64\n",
    "        else:\n",
    "            # typers that return None defer to other typers.\n",
    "            return None"
   ]
  },
  {
   "cell_type": "markdown",
   "metadata": {},
   "source": [
    "If we had any methods with arguments, this is how we'd do it.\n",
    "\n",
    "```python\n",
    "@nb.typing.templates.bound_function(\"pt\")\n",
    "def pt_resolve(self, lxyztype, args, kwargs):\n",
    "    ...\n",
    "```"
   ]
  },
  {
   "cell_type": "markdown",
   "metadata": {},
   "source": [
    "#### Lowering\n",
    "\n",
    "To lower these functions, we can duck-type the Python functions above.\n",
    "Since they're defined in terms of NumPy functions, they apply to\n",
    "\n",
    "* Python scalars\n",
    "* NumPy arrays\n",
    "* Awkward arrays\n",
    "* lowered Numba values"
   ]
  },
  {
   "cell_type": "code",
   "execution_count": 26,
   "metadata": {},
   "outputs": [],
   "source": [
    "@nb.extending.lower_getattr(LorentzXYZTType, \"pt\")\n",
    "def lower_LorentzXYZT_pt(context, builder, lxyztype, lxyzval):\n",
    "    return context.compile_internal(\n",
    "        builder, lorentz_xyz_pt, nb.float64(lxyztype), (lxyzval,)\n",
    "    )\n",
    "\n",
    "\n",
    "@nb.extending.lower_getattr(LorentzXYZTType, \"eta\")\n",
    "def lower_LorentzXYZT_eta(context, builder, lxyztype, lxyzval):\n",
    "    return context.compile_internal(\n",
    "        builder, lorentz_xyz_eta, nb.float64(lxyztype), (lxyzval,)\n",
    "    )\n",
    "\n",
    "\n",
    "@nb.extending.lower_getattr(LorentzXYZTType, \"phi\")\n",
    "def lower_LorentzXYZT_phi(context, builder, lxyztype, lxyzval):\n",
    "    return context.compile_internal(\n",
    "        builder, lorentz_xyz_phi, nb.float64(lxyztype), (lxyzval,)\n",
    "    )\n",
    "\n",
    "\n",
    "@nb.extending.lower_getattr(LorentzXYZTType, \"mass\")\n",
    "def lower_LorentzXYZT_mass(context, builder, lxyztype, lxyzval):\n",
    "    return context.compile_internal(\n",
    "        builder, lorentz_xyz_mass, nb.float64(lxyztype), (lxyzval,)\n",
    "    )"
   ]
  },
  {
   "cell_type": "markdown",
   "metadata": {},
   "source": [
    "And the `__getitem__` access..."
   ]
  },
  {
   "cell_type": "code",
   "execution_count": 27,
   "metadata": {},
   "outputs": [],
   "source": [
    "@nb.core.typing.templates.infer_global(operator.getitem)\n",
    "class typer_LorentzXYZT_getitem(nb.core.typing.templates.AbstractTemplate):\n",
    "    def generic(self, args, kwargs):\n",
    "        if len(args) == 2 and len(kwargs) == 0 and isinstance(args[0], LorentzXYZTType):\n",
    "            # Only accept compile-time constants. It's a fair restriction.\n",
    "            if isinstance(args[1], nb.types.StringLiteral):\n",
    "                if args[1].literal_value in (\"x\", \"y\", \"z\", \"t\"):\n",
    "                    return nb.float64(*args)"
   ]
  },
  {
   "cell_type": "code",
   "execution_count": 28,
   "metadata": {},
   "outputs": [],
   "source": [
    "@nb.extending.lower_builtin(operator.getitem, LorentzXYZTType, nb.types.StringLiteral)\n",
    "def lower_getitem_LorentzXYZT(context, builder, sig, args):\n",
    "    rettype, (lxyztype, wheretype) = sig.return_type, sig.args\n",
    "    lxyzval, whereval = args\n",
    "\n",
    "    inproxy = context.make_helper(builder, lxyztype, lxyzval)\n",
    "\n",
    "    # The value of a StringLiteral is in its compile-time type.\n",
    "    if wheretype.literal_value == \"x\":\n",
    "        return inproxy.x\n",
    "    elif wheretype.literal_value == \"y\":\n",
    "        return inproxy.y\n",
    "    elif wheretype.literal_value == \"z\":\n",
    "        return inproxy.z\n",
    "    elif wheretype.literal_value == \"t\":\n",
    "        return inproxy.t"
   ]
  },
  {
   "cell_type": "markdown",
   "metadata": {},
   "source": [
    "#### Example\n",
    "\n",
    "Now we can use all of these. `LorentzXYZTFree` is as fully functional as LorentzXYZT."
   ]
  },
  {
   "cell_type": "code",
   "execution_count": 29,
   "metadata": {},
   "outputs": [
    {
     "name": "stdout",
     "output_type": "stream",
     "text": [
      "(1.0, 1.0, 2.23606797749979, 1.1035868415601453, 1.1071487177940904, 1.4142135623730951)\n"
     ]
    }
   ],
   "source": [
    "@nb.njit\n",
    "def try_it_out(testit):\n",
    "    return testit.x, testit[\"x\"], testit.pt, testit.eta, testit.phi, testit.mass\n",
    "\n",
    "\n",
    "print(try_it_out(testit))"
   ]
  },
  {
   "cell_type": "markdown",
   "metadata": {},
   "source": [
    "### Numba: Append to Awkward\n",
    "\n",
    "Finally, we want to be able to append `LorentzXYZTFree` to a `ArrayBuilder`, as though\n",
    "it were an attached `LorentzXYZT`. This doesn't need a typer; the types are obvious."
   ]
  },
  {
   "cell_type": "code",
   "execution_count": 30,
   "metadata": {},
   "outputs": [],
   "source": [
    "def lower_ArrayBuilder_append_LorentzXYZT(context, builder, sig, args):\n",
    "    def doit(output, lxyz):\n",
    "        output.begin_record(\"LorentzXYZT\")\n",
    "        output.field(\"x\")\n",
    "        output.real(lxyz.x)\n",
    "        output.field(\"y\")\n",
    "        output.real(lxyz.y)\n",
    "        output.field(\"z\")\n",
    "        output.real(lxyz.z)\n",
    "        output.field(\"t\")\n",
    "        output.real(lxyz.t)\n",
    "        output.end_record()\n",
    "\n",
    "    return context.compile_internal(builder, doit, sig, args)\n",
    "\n",
    "\n",
    "lorentzbehavior[\n",
    "    \"__numba_lower__\", ak.ArrayBuilder.append, LorentzXYZTType\n",
    "] = lower_ArrayBuilder_append_LorentzXYZT"
   ]
  },
  {
   "cell_type": "markdown",
   "metadata": {},
   "source": [
    "#### Example\n",
    "\n",
    "Attaching free objects to a ArrayBuilder doesn't look any different to the user."
   ]
  },
  {
   "cell_type": "code",
   "execution_count": 31,
   "metadata": {},
   "outputs": [
    {
     "ename": "TypingError",
     "evalue": "Failed in nopython mode pipeline (step: nopython frontend)\n\u001b[1m\u001b[1m\u001b[1m\u001b[1m- Resolution failure for literal arguments:\n\u001b[1mLorentzXYZTType()\u001b[0m\n\u001b[0m\u001b[1m- Resolution failure for non-literal arguments:\n\u001b[1mNone\u001b[0m\n\u001b[0m\u001b[0m\n\u001b[0m\u001b[1mDuring: resolving callee type: BoundFunction(append for ak.ArrayBuilderType({'byte': <class 'awkward.behaviors.string.ByteBehavior'>, ('__typestr__', 'byte'): 'byte', 'char': <class 'awkward.behaviors.string.CharBehavior'>, ('__typestr__', 'char'): 'char', 'bytestring': <class 'awkward.behaviors.string.ByteStringBehavior'>, ('__typestr__', 'bytestring'): 'bytes', 'string': <class 'awkward.behaviors.string.StringBehavior'>, ('__typestr__', 'string'): 'string', (<ufunc 'equal'>, 'bytestring', 'bytestring'): <function _string_equal at 0x000002ADE8547700>, (<ufunc 'equal'>, 'string', 'string'): <function _string_equal at 0x000002ADE8547700>, (<ufunc 'not_equal'>, 'bytestring', 'bytestring'): <function _string_notequal at 0x000002ADE854B310>, (<ufunc 'not_equal'>, 'string', 'string'): <function _string_notequal at 0x000002ADE854B310>, ('__broadcast__', 'bytestring'): <function _string_broadcast at 0x000002ADE854B3A0>, ('__broadcast__', 'string'): <function _string_broadcast at 0x000002ADE854B3A0>, ('__numba_typer__', 'bytestring'): <function _string_numba_typer at 0x000002ADE854B430>, ('__numba_lower__', 'bytestring'): <function _string_numba_lower at 0x000002ADE854B4C0>, ('__numba_typer__', 'string'): <function _string_numba_typer at 0x000002ADE854B430>, ('__numba_lower__', 'string'): <function _string_numba_lower at 0x000002ADE854B4C0>, 'categorical': <class 'awkward.behaviors.categorical.CategoricalBehavior'>, (<ufunc 'equal'>, 'categorical', 'categorical'): <function _categorical_equal at 0x000002ADE854BA60>, (<class 'numpy.ufunc'>, 'categorical'): <function _apply_ufunc at 0x000002ADE854BAF0>, 'LorentzXYZT': <class '__main__.LorentzXYZT'>, ('*', 'LorentzXYZT'): <class '__main__.LorentzXYZTArray'>, (<ufunc 'add'>, 'LorentzXYZT', 'LorentzXYZT'): <function lorentz_add_xyz_xyz at 0x000002ADD899B310>, ('__numba_typer__', 'LorentzXYZT', 'pt'): <function typer_lorentz_xyz_pt at 0x000002ADF7CB0940>, ('__numba_lower__', 'LorentzXYZT', 'pt'): <function lower_lorentz_xyz_pt at 0x000002ADF7CB0820>, ('__numba_typer__', 'LorentzXYZT', <built-in function eq>, 'LorentzXYZT'): <function typer_lorentz_xyz_eq at 0x000002ADF7CB0AF0>, ('__numba_lower__', 'LorentzXYZT', <built-in function eq>, 'LorentzXYZT'): <function lower_lorentz_xyz_eq at 0x000002ADF7CB05E0>, ('__numba_lower__', <function ArrayBuilder.append at 0x000002ADE85459D0>, <class '__main__.LorentzXYZTType'>): <function lower_ArrayBuilder_append_LorentzXYZT at 0x000002ADFD576670>}))\u001b[0m\n\u001b[0m\u001b[1mDuring: typing of call at C:\\Users\\Saransh\\AppData\\Local\\Temp\\ipykernel_19540\\4113962592.py (3)\n\u001b[0m\n\u001b[1m\nFile \"C:\\Users\\Saransh\\AppData\\Local\\Temp\\ipykernel_19540\\4113962592.py\", line 3:\u001b[0m\n\u001b[1mdef fill_it(testit, output):\n\u001b[1m    output.append(testit)\n\u001b[0m    \u001b[1m^\u001b[0m\u001b[0m\n",
     "output_type": "error",
     "traceback": [
      "\u001b[1;31m---------------------------------------------------------------------------\u001b[0m",
      "\u001b[1;31mTypingError\u001b[0m                               Traceback (most recent call last)",
      "Cell \u001b[1;32mIn [31], line 8\u001b[0m\n\u001b[0;32m      4\u001b[0m     output\u001b[38;5;241m.\u001b[39mappend(testit)\n\u001b[0;32m      7\u001b[0m output \u001b[38;5;241m=\u001b[39m ak\u001b[38;5;241m.\u001b[39mArrayBuilder(behavior\u001b[38;5;241m=\u001b[39mlorentzbehavior)\n\u001b[1;32m----> 8\u001b[0m \u001b[43mfill_it\u001b[49m\u001b[43m(\u001b[49m\u001b[43mtestit\u001b[49m\u001b[43m,\u001b[49m\u001b[43m \u001b[49m\u001b[43moutput\u001b[49m\u001b[43m)\u001b[49m\n\u001b[0;32m     10\u001b[0m \u001b[38;5;28mprint\u001b[39m(output\u001b[38;5;241m.\u001b[39msnapshot())\n",
      "File \u001b[1;32m~\\Saransh_softwares\\Python_3.9\\lib\\site-packages\\numba\\core\\dispatcher.py:468\u001b[0m, in \u001b[0;36m_DispatcherBase._compile_for_args\u001b[1;34m(self, *args, **kws)\u001b[0m\n\u001b[0;32m    464\u001b[0m         msg \u001b[38;5;241m=\u001b[39m (\u001b[38;5;124mf\u001b[39m\u001b[38;5;124m\"\u001b[39m\u001b[38;5;132;01m{\u001b[39;00m\u001b[38;5;28mstr\u001b[39m(e)\u001b[38;5;241m.\u001b[39mrstrip()\u001b[38;5;132;01m}\u001b[39;00m\u001b[38;5;124m \u001b[39m\u001b[38;5;130;01m\\n\u001b[39;00m\u001b[38;5;130;01m\\n\u001b[39;00m\u001b[38;5;124mThis error may have been caused \u001b[39m\u001b[38;5;124m\"\u001b[39m\n\u001b[0;32m    465\u001b[0m                \u001b[38;5;124mf\u001b[39m\u001b[38;5;124m\"\u001b[39m\u001b[38;5;124mby the following argument(s):\u001b[39m\u001b[38;5;130;01m\\n\u001b[39;00m\u001b[38;5;132;01m{\u001b[39;00margs_str\u001b[38;5;132;01m}\u001b[39;00m\u001b[38;5;130;01m\\n\u001b[39;00m\u001b[38;5;124m\"\u001b[39m)\n\u001b[0;32m    466\u001b[0m         e\u001b[38;5;241m.\u001b[39mpatch_message(msg)\n\u001b[1;32m--> 468\u001b[0m     \u001b[43merror_rewrite\u001b[49m\u001b[43m(\u001b[49m\u001b[43me\u001b[49m\u001b[43m,\u001b[49m\u001b[43m \u001b[49m\u001b[38;5;124;43m'\u001b[39;49m\u001b[38;5;124;43mtyping\u001b[39;49m\u001b[38;5;124;43m'\u001b[39;49m\u001b[43m)\u001b[49m\n\u001b[0;32m    469\u001b[0m \u001b[38;5;28;01mexcept\u001b[39;00m errors\u001b[38;5;241m.\u001b[39mUnsupportedError \u001b[38;5;28;01mas\u001b[39;00m e:\n\u001b[0;32m    470\u001b[0m     \u001b[38;5;66;03m# Something unsupported is present in the user code, add help info\u001b[39;00m\n\u001b[0;32m    471\u001b[0m     error_rewrite(e, \u001b[38;5;124m'\u001b[39m\u001b[38;5;124munsupported_error\u001b[39m\u001b[38;5;124m'\u001b[39m)\n",
      "File \u001b[1;32m~\\Saransh_softwares\\Python_3.9\\lib\\site-packages\\numba\\core\\dispatcher.py:409\u001b[0m, in \u001b[0;36m_DispatcherBase._compile_for_args.<locals>.error_rewrite\u001b[1;34m(e, issue_type)\u001b[0m\n\u001b[0;32m    407\u001b[0m     \u001b[38;5;28;01mraise\u001b[39;00m e\n\u001b[0;32m    408\u001b[0m \u001b[38;5;28;01melse\u001b[39;00m:\n\u001b[1;32m--> 409\u001b[0m     \u001b[38;5;28;01mraise\u001b[39;00m e\u001b[38;5;241m.\u001b[39mwith_traceback(\u001b[38;5;28;01mNone\u001b[39;00m)\n",
      "\u001b[1;31mTypingError\u001b[0m: Failed in nopython mode pipeline (step: nopython frontend)\n\u001b[1m\u001b[1m\u001b[1m\u001b[1m- Resolution failure for literal arguments:\n\u001b[1mLorentzXYZTType()\u001b[0m\n\u001b[0m\u001b[1m- Resolution failure for non-literal arguments:\n\u001b[1mNone\u001b[0m\n\u001b[0m\u001b[0m\n\u001b[0m\u001b[1mDuring: resolving callee type: BoundFunction(append for ak.ArrayBuilderType({'byte': <class 'awkward.behaviors.string.ByteBehavior'>, ('__typestr__', 'byte'): 'byte', 'char': <class 'awkward.behaviors.string.CharBehavior'>, ('__typestr__', 'char'): 'char', 'bytestring': <class 'awkward.behaviors.string.ByteStringBehavior'>, ('__typestr__', 'bytestring'): 'bytes', 'string': <class 'awkward.behaviors.string.StringBehavior'>, ('__typestr__', 'string'): 'string', (<ufunc 'equal'>, 'bytestring', 'bytestring'): <function _string_equal at 0x000002ADE8547700>, (<ufunc 'equal'>, 'string', 'string'): <function _string_equal at 0x000002ADE8547700>, (<ufunc 'not_equal'>, 'bytestring', 'bytestring'): <function _string_notequal at 0x000002ADE854B310>, (<ufunc 'not_equal'>, 'string', 'string'): <function _string_notequal at 0x000002ADE854B310>, ('__broadcast__', 'bytestring'): <function _string_broadcast at 0x000002ADE854B3A0>, ('__broadcast__', 'string'): <function _string_broadcast at 0x000002ADE854B3A0>, ('__numba_typer__', 'bytestring'): <function _string_numba_typer at 0x000002ADE854B430>, ('__numba_lower__', 'bytestring'): <function _string_numba_lower at 0x000002ADE854B4C0>, ('__numba_typer__', 'string'): <function _string_numba_typer at 0x000002ADE854B430>, ('__numba_lower__', 'string'): <function _string_numba_lower at 0x000002ADE854B4C0>, 'categorical': <class 'awkward.behaviors.categorical.CategoricalBehavior'>, (<ufunc 'equal'>, 'categorical', 'categorical'): <function _categorical_equal at 0x000002ADE854BA60>, (<class 'numpy.ufunc'>, 'categorical'): <function _apply_ufunc at 0x000002ADE854BAF0>, 'LorentzXYZT': <class '__main__.LorentzXYZT'>, ('*', 'LorentzXYZT'): <class '__main__.LorentzXYZTArray'>, (<ufunc 'add'>, 'LorentzXYZT', 'LorentzXYZT'): <function lorentz_add_xyz_xyz at 0x000002ADD899B310>, ('__numba_typer__', 'LorentzXYZT', 'pt'): <function typer_lorentz_xyz_pt at 0x000002ADF7CB0940>, ('__numba_lower__', 'LorentzXYZT', 'pt'): <function lower_lorentz_xyz_pt at 0x000002ADF7CB0820>, ('__numba_typer__', 'LorentzXYZT', <built-in function eq>, 'LorentzXYZT'): <function typer_lorentz_xyz_eq at 0x000002ADF7CB0AF0>, ('__numba_lower__', 'LorentzXYZT', <built-in function eq>, 'LorentzXYZT'): <function lower_lorentz_xyz_eq at 0x000002ADF7CB05E0>, ('__numba_lower__', <function ArrayBuilder.append at 0x000002ADE85459D0>, <class '__main__.LorentzXYZTType'>): <function lower_ArrayBuilder_append_LorentzXYZT at 0x000002ADFD576670>}))\u001b[0m\n\u001b[0m\u001b[1mDuring: typing of call at C:\\Users\\Saransh\\AppData\\Local\\Temp\\ipykernel_19540\\4113962592.py (3)\n\u001b[0m\n\u001b[1m\nFile \"C:\\Users\\Saransh\\AppData\\Local\\Temp\\ipykernel_19540\\4113962592.py\", line 3:\u001b[0m\n\u001b[1mdef fill_it(testit, output):\n\u001b[1m    output.append(testit)\n\u001b[0m    \u001b[1m^\u001b[0m\u001b[0m\n"
     ]
    }
   ],
   "source": [
    "@nb.njit\n",
    "def fill_it(testit, output):\n",
    "    output.append(testit)\n",
    "    output.append(testit)\n",
    "\n",
    "\n",
    "output = ak.ArrayBuilder(behavior=lorentzbehavior)\n",
    "fill_it(testit, output)\n",
    "\n",
    "print(output.snapshot())"
   ]
  },
  {
   "cell_type": "markdown",
   "metadata": {},
   "source": [
    "### Numba: Addition in Awkward\n",
    "\n",
    "Now that we have free Lorentz vectors, we can finally define addition."
   ]
  },
  {
   "cell_type": "code",
   "execution_count": 32,
   "metadata": {},
   "outputs": [],
   "source": [
    "def typer_lorentz_xyz_add(binop, left, right):\n",
    "    return LorentzXYZTType()(left, right)\n",
    "\n",
    "\n",
    "def lower_lorentz_xyz_add(context, builder, sig, args):\n",
    "    def compute(left, right):\n",
    "        return LorentzXYZTFree(\n",
    "            left.x + right.x, left.y + right.y, left.z + right.z, left.t + right.t\n",
    "        )\n",
    "\n",
    "    return context.compile_internal(builder, compute, sig, args)"
   ]
  },
  {
   "cell_type": "code",
   "execution_count": 33,
   "metadata": {},
   "outputs": [],
   "source": [
    "lorentzbehavior[\n",
    "    \"__numba_typer__\", \"LorentzXYZT\", operator.add, \"LorentzXYZT\"\n",
    "] = typer_lorentz_xyz_add\n",
    "lorentzbehavior[\n",
    "    \"__numba_lower__\", \"LorentzXYZT\", operator.add, \"LorentzXYZT\"\n",
    "] = lower_lorentz_xyz_add"
   ]
  },
  {
   "cell_type": "markdown",
   "metadata": {},
   "source": [
    "#### Example\n",
    "\n",
    "Test it..."
   ]
  },
  {
   "cell_type": "code",
   "execution_count": 34,
   "metadata": {},
   "outputs": [
    {
     "ename": "TypingError",
     "evalue": "Failed in nopython mode pipeline (step: native lowering)\n\u001b[1mFailed in nopython mode pipeline (step: nopython frontend)\n\u001b[1m\u001b[1m\u001b[1mNo implementation of function Function(<class '__main__.LorentzXYZTFree'>) found for signature:\n \n >>> LorentzXYZTFree(float32, float32, float32, float32)\n \nThere are 2 candidate implementations:\n\u001b[1m  - Of which 2 did not match due to:\n  Overload of function 'LorentzXYZTFree': File: numba\\core\\extending.py: Line 40.\n    With argument(s): '(float32, float32, float32, float32)':\u001b[0m\n\u001b[1m   No match.\u001b[0m\n\u001b[0m\n\u001b[0m\u001b[1mDuring: resolving callee type: Function(<class '__main__.LorentzXYZTFree'>)\u001b[0m\n\u001b[0m\u001b[1mDuring: typing of call at C:\\Users\\Saransh\\AppData\\Local\\Temp\\ipykernel_19540\\2126469444.py (7)\n\u001b[0m\n\u001b[1m\nFile \"C:\\Users\\Saransh\\AppData\\Local\\Temp\\ipykernel_19540\\2126469444.py\", line 7:\u001b[0m\n\u001b[1m    def compute(left, right):\n\u001b[1m        return LorentzXYZTFree(\n\u001b[0m        \u001b[1m^\u001b[0m\u001b[0m\n\n\u001b[0m\u001b[1mDuring: lowering \"$60binary_add.10 = $52binary_subscr.6 + $58binary_subscr.9\" at C:\\Users\\Saransh\\AppData\\Local\\Temp\\ipykernel_19540\\3928151722.py (6)\u001b[0m",
     "output_type": "error",
     "traceback": [
      "\u001b[1;31m---------------------------------------------------------------------------\u001b[0m",
      "\u001b[1;31mTypingError\u001b[0m                               Traceback (most recent call last)",
      "Cell \u001b[1;32mIn [34], line 11\u001b[0m\n\u001b[0;32m      6\u001b[0m                 \u001b[38;5;28;01mreturn\u001b[39;00m muons[i] \u001b[38;5;241m+\u001b[39m muons[j]\n\u001b[0;32m      9\u001b[0m example5 \u001b[38;5;241m=\u001b[39m ak\u001b[38;5;241m.\u001b[39mArray(example, behavior\u001b[38;5;241m=\u001b[39mlorentzbehavior)\n\u001b[1;32m---> 11\u001b[0m \u001b[38;5;28mprint\u001b[39m(\u001b[43mtest_add\u001b[49m\u001b[43m(\u001b[49m\u001b[43mexample5\u001b[49m\u001b[43m)\u001b[49m)\n",
      "File \u001b[1;32m~\\Saransh_softwares\\Python_3.9\\lib\\site-packages\\numba\\core\\dispatcher.py:468\u001b[0m, in \u001b[0;36m_DispatcherBase._compile_for_args\u001b[1;34m(self, *args, **kws)\u001b[0m\n\u001b[0;32m    464\u001b[0m         msg \u001b[38;5;241m=\u001b[39m (\u001b[38;5;124mf\u001b[39m\u001b[38;5;124m\"\u001b[39m\u001b[38;5;132;01m{\u001b[39;00m\u001b[38;5;28mstr\u001b[39m(e)\u001b[38;5;241m.\u001b[39mrstrip()\u001b[38;5;132;01m}\u001b[39;00m\u001b[38;5;124m \u001b[39m\u001b[38;5;130;01m\\n\u001b[39;00m\u001b[38;5;130;01m\\n\u001b[39;00m\u001b[38;5;124mThis error may have been caused \u001b[39m\u001b[38;5;124m\"\u001b[39m\n\u001b[0;32m    465\u001b[0m                \u001b[38;5;124mf\u001b[39m\u001b[38;5;124m\"\u001b[39m\u001b[38;5;124mby the following argument(s):\u001b[39m\u001b[38;5;130;01m\\n\u001b[39;00m\u001b[38;5;132;01m{\u001b[39;00margs_str\u001b[38;5;132;01m}\u001b[39;00m\u001b[38;5;130;01m\\n\u001b[39;00m\u001b[38;5;124m\"\u001b[39m)\n\u001b[0;32m    466\u001b[0m         e\u001b[38;5;241m.\u001b[39mpatch_message(msg)\n\u001b[1;32m--> 468\u001b[0m     \u001b[43merror_rewrite\u001b[49m\u001b[43m(\u001b[49m\u001b[43me\u001b[49m\u001b[43m,\u001b[49m\u001b[43m \u001b[49m\u001b[38;5;124;43m'\u001b[39;49m\u001b[38;5;124;43mtyping\u001b[39;49m\u001b[38;5;124;43m'\u001b[39;49m\u001b[43m)\u001b[49m\n\u001b[0;32m    469\u001b[0m \u001b[38;5;28;01mexcept\u001b[39;00m errors\u001b[38;5;241m.\u001b[39mUnsupportedError \u001b[38;5;28;01mas\u001b[39;00m e:\n\u001b[0;32m    470\u001b[0m     \u001b[38;5;66;03m# Something unsupported is present in the user code, add help info\u001b[39;00m\n\u001b[0;32m    471\u001b[0m     error_rewrite(e, \u001b[38;5;124m'\u001b[39m\u001b[38;5;124munsupported_error\u001b[39m\u001b[38;5;124m'\u001b[39m)\n",
      "File \u001b[1;32m~\\Saransh_softwares\\Python_3.9\\lib\\site-packages\\numba\\core\\dispatcher.py:409\u001b[0m, in \u001b[0;36m_DispatcherBase._compile_for_args.<locals>.error_rewrite\u001b[1;34m(e, issue_type)\u001b[0m\n\u001b[0;32m    407\u001b[0m     \u001b[38;5;28;01mraise\u001b[39;00m e\n\u001b[0;32m    408\u001b[0m \u001b[38;5;28;01melse\u001b[39;00m:\n\u001b[1;32m--> 409\u001b[0m     \u001b[38;5;28;01mraise\u001b[39;00m e\u001b[38;5;241m.\u001b[39mwith_traceback(\u001b[38;5;28;01mNone\u001b[39;00m)\n",
      "\u001b[1;31mTypingError\u001b[0m: Failed in nopython mode pipeline (step: native lowering)\n\u001b[1mFailed in nopython mode pipeline (step: nopython frontend)\n\u001b[1m\u001b[1m\u001b[1mNo implementation of function Function(<class '__main__.LorentzXYZTFree'>) found for signature:\n \n >>> LorentzXYZTFree(float32, float32, float32, float32)\n \nThere are 2 candidate implementations:\n\u001b[1m  - Of which 2 did not match due to:\n  Overload of function 'LorentzXYZTFree': File: numba\\core\\extending.py: Line 40.\n    With argument(s): '(float32, float32, float32, float32)':\u001b[0m\n\u001b[1m   No match.\u001b[0m\n\u001b[0m\n\u001b[0m\u001b[1mDuring: resolving callee type: Function(<class '__main__.LorentzXYZTFree'>)\u001b[0m\n\u001b[0m\u001b[1mDuring: typing of call at C:\\Users\\Saransh\\AppData\\Local\\Temp\\ipykernel_19540\\2126469444.py (7)\n\u001b[0m\n\u001b[1m\nFile \"C:\\Users\\Saransh\\AppData\\Local\\Temp\\ipykernel_19540\\2126469444.py\", line 7:\u001b[0m\n\u001b[1m    def compute(left, right):\n\u001b[1m        return LorentzXYZTFree(\n\u001b[0m        \u001b[1m^\u001b[0m\u001b[0m\n\n\u001b[0m\u001b[1mDuring: lowering \"$60binary_add.10 = $52binary_subscr.6 + $58binary_subscr.9\" at C:\\Users\\Saransh\\AppData\\Local\\Temp\\ipykernel_19540\\3928151722.py (6)\u001b[0m"
     ]
    }
   ],
   "source": [
    "@nb.njit\n",
    "def test_add(input):\n",
    "    for muons in input:\n",
    "        for i in range(len(muons)):\n",
    "            for j in range(i + 1, len(muons)):\n",
    "                return muons[i] + muons[j]\n",
    "\n",
    "\n",
    "example5 = ak.Array(example, behavior=lorentzbehavior)\n",
    "\n",
    "print(test_add(example5))"
   ]
  },
  {
   "cell_type": "markdown",
   "metadata": {},
   "source": [
    "## Complete example\n",
    "\n",
    "All together now!"
   ]
  },
  {
   "cell_type": "code",
   "execution_count": 35,
   "metadata": {},
   "outputs": [
    {
     "ename": "TypingError",
     "evalue": "Failed in nopython mode pipeline (step: nopython frontend)\n\u001b[1m\u001b[1m\u001b[1m\u001b[1m- Resolution failure for literal arguments:\n\u001b[1mLorentzXYZTType()\u001b[0m\n\u001b[0m\u001b[1m- Resolution failure for non-literal arguments:\n\u001b[1mNone\u001b[0m\n\u001b[0m\u001b[0m\n\u001b[0m\u001b[1mDuring: resolving callee type: BoundFunction(append for ak.ArrayBuilderType({'byte': <class 'awkward.behaviors.string.ByteBehavior'>, ('__typestr__', 'byte'): 'byte', 'char': <class 'awkward.behaviors.string.CharBehavior'>, ('__typestr__', 'char'): 'char', 'bytestring': <class 'awkward.behaviors.string.ByteStringBehavior'>, ('__typestr__', 'bytestring'): 'bytes', 'string': <class 'awkward.behaviors.string.StringBehavior'>, ('__typestr__', 'string'): 'string', (<ufunc 'equal'>, 'bytestring', 'bytestring'): <function _string_equal at 0x000002ADE8547700>, (<ufunc 'equal'>, 'string', 'string'): <function _string_equal at 0x000002ADE8547700>, (<ufunc 'not_equal'>, 'bytestring', 'bytestring'): <function _string_notequal at 0x000002ADE854B310>, (<ufunc 'not_equal'>, 'string', 'string'): <function _string_notequal at 0x000002ADE854B310>, ('__broadcast__', 'bytestring'): <function _string_broadcast at 0x000002ADE854B3A0>, ('__broadcast__', 'string'): <function _string_broadcast at 0x000002ADE854B3A0>, ('__numba_typer__', 'bytestring'): <function _string_numba_typer at 0x000002ADE854B430>, ('__numba_lower__', 'bytestring'): <function _string_numba_lower at 0x000002ADE854B4C0>, ('__numba_typer__', 'string'): <function _string_numba_typer at 0x000002ADE854B430>, ('__numba_lower__', 'string'): <function _string_numba_lower at 0x000002ADE854B4C0>, 'categorical': <class 'awkward.behaviors.categorical.CategoricalBehavior'>, (<ufunc 'equal'>, 'categorical', 'categorical'): <function _categorical_equal at 0x000002ADE854BA60>, (<class 'numpy.ufunc'>, 'categorical'): <function _apply_ufunc at 0x000002ADE854BAF0>, 'LorentzXYZT': <class '__main__.LorentzXYZT'>, ('*', 'LorentzXYZT'): <class '__main__.LorentzXYZTArray'>, (<ufunc 'add'>, 'LorentzXYZT', 'LorentzXYZT'): <function lorentz_add_xyz_xyz at 0x000002ADD899B310>, ('__numba_typer__', 'LorentzXYZT', 'pt'): <function typer_lorentz_xyz_pt at 0x000002ADF7CB0940>, ('__numba_lower__', 'LorentzXYZT', 'pt'): <function lower_lorentz_xyz_pt at 0x000002ADF7CB0820>, ('__numba_typer__', 'LorentzXYZT', <built-in function eq>, 'LorentzXYZT'): <function typer_lorentz_xyz_eq at 0x000002ADF7CB0AF0>, ('__numba_lower__', 'LorentzXYZT', <built-in function eq>, 'LorentzXYZT'): <function lower_lorentz_xyz_eq at 0x000002ADF7CB05E0>, ('__numba_lower__', <function ArrayBuilder.append at 0x000002ADE85459D0>, <class '__main__.LorentzXYZTType'>): <function lower_ArrayBuilder_append_LorentzXYZT at 0x000002ADFD576670>, ('__numba_typer__', 'LorentzXYZT', <built-in function add>, 'LorentzXYZT'): <function typer_lorentz_xyz_add at 0x000002ADF7CB0CA0>, ('__numba_lower__', 'LorentzXYZT', <built-in function add>, 'LorentzXYZT'): <function lower_lorentz_xyz_add at 0x000002ADFD706D30>}))\u001b[0m\n\u001b[0m\u001b[1mDuring: typing of call at C:\\Users\\Saransh\\AppData\\Local\\Temp\\ipykernel_19540\\4130704722.py (14)\n\u001b[0m\n\u001b[1m\nFile \"C:\\Users\\Saransh\\AppData\\Local\\Temp\\ipykernel_19540\\4130704722.py\", line 14:\u001b[0m\n\u001b[1mdef do_cool_stuff(input, output):\n    <source elided>\n                output.index(0)\n\u001b[1m                output.append(zboson)\n\u001b[0m                \u001b[1m^\u001b[0m\u001b[0m\n",
     "output_type": "error",
     "traceback": [
      "\u001b[1;31m---------------------------------------------------------------------------\u001b[0m",
      "\u001b[1;31mTypingError\u001b[0m                               Traceback (most recent call last)",
      "Cell \u001b[1;32mIn [35], line 25\u001b[0m\n\u001b[0;32m     21\u001b[0m         output\u001b[38;5;241m.\u001b[39mend_list()\n\u001b[0;32m     24\u001b[0m output \u001b[38;5;241m=\u001b[39m ak\u001b[38;5;241m.\u001b[39mArrayBuilder(behavior\u001b[38;5;241m=\u001b[39mlorentzbehavior)\n\u001b[1;32m---> 25\u001b[0m \u001b[43mdo_cool_stuff\u001b[49m\u001b[43m(\u001b[49m\u001b[43mexample5\u001b[49m\u001b[43m,\u001b[49m\u001b[43m \u001b[49m\u001b[43moutput\u001b[49m\u001b[43m)\u001b[49m\n\u001b[0;32m     27\u001b[0m \u001b[38;5;28mprint\u001b[39m(output\u001b[38;5;241m.\u001b[39msnapshot())\n",
      "File \u001b[1;32m~\\Saransh_softwares\\Python_3.9\\lib\\site-packages\\numba\\core\\dispatcher.py:468\u001b[0m, in \u001b[0;36m_DispatcherBase._compile_for_args\u001b[1;34m(self, *args, **kws)\u001b[0m\n\u001b[0;32m    464\u001b[0m         msg \u001b[38;5;241m=\u001b[39m (\u001b[38;5;124mf\u001b[39m\u001b[38;5;124m\"\u001b[39m\u001b[38;5;132;01m{\u001b[39;00m\u001b[38;5;28mstr\u001b[39m(e)\u001b[38;5;241m.\u001b[39mrstrip()\u001b[38;5;132;01m}\u001b[39;00m\u001b[38;5;124m \u001b[39m\u001b[38;5;130;01m\\n\u001b[39;00m\u001b[38;5;130;01m\\n\u001b[39;00m\u001b[38;5;124mThis error may have been caused \u001b[39m\u001b[38;5;124m\"\u001b[39m\n\u001b[0;32m    465\u001b[0m                \u001b[38;5;124mf\u001b[39m\u001b[38;5;124m\"\u001b[39m\u001b[38;5;124mby the following argument(s):\u001b[39m\u001b[38;5;130;01m\\n\u001b[39;00m\u001b[38;5;132;01m{\u001b[39;00margs_str\u001b[38;5;132;01m}\u001b[39;00m\u001b[38;5;130;01m\\n\u001b[39;00m\u001b[38;5;124m\"\u001b[39m)\n\u001b[0;32m    466\u001b[0m         e\u001b[38;5;241m.\u001b[39mpatch_message(msg)\n\u001b[1;32m--> 468\u001b[0m     \u001b[43merror_rewrite\u001b[49m\u001b[43m(\u001b[49m\u001b[43me\u001b[49m\u001b[43m,\u001b[49m\u001b[43m \u001b[49m\u001b[38;5;124;43m'\u001b[39;49m\u001b[38;5;124;43mtyping\u001b[39;49m\u001b[38;5;124;43m'\u001b[39;49m\u001b[43m)\u001b[49m\n\u001b[0;32m    469\u001b[0m \u001b[38;5;28;01mexcept\u001b[39;00m errors\u001b[38;5;241m.\u001b[39mUnsupportedError \u001b[38;5;28;01mas\u001b[39;00m e:\n\u001b[0;32m    470\u001b[0m     \u001b[38;5;66;03m# Something unsupported is present in the user code, add help info\u001b[39;00m\n\u001b[0;32m    471\u001b[0m     error_rewrite(e, \u001b[38;5;124m'\u001b[39m\u001b[38;5;124munsupported_error\u001b[39m\u001b[38;5;124m'\u001b[39m)\n",
      "File \u001b[1;32m~\\Saransh_softwares\\Python_3.9\\lib\\site-packages\\numba\\core\\dispatcher.py:409\u001b[0m, in \u001b[0;36m_DispatcherBase._compile_for_args.<locals>.error_rewrite\u001b[1;34m(e, issue_type)\u001b[0m\n\u001b[0;32m    407\u001b[0m     \u001b[38;5;28;01mraise\u001b[39;00m e\n\u001b[0;32m    408\u001b[0m \u001b[38;5;28;01melse\u001b[39;00m:\n\u001b[1;32m--> 409\u001b[0m     \u001b[38;5;28;01mraise\u001b[39;00m e\u001b[38;5;241m.\u001b[39mwith_traceback(\u001b[38;5;28;01mNone\u001b[39;00m)\n",
      "\u001b[1;31mTypingError\u001b[0m: Failed in nopython mode pipeline (step: nopython frontend)\n\u001b[1m\u001b[1m\u001b[1m\u001b[1m- Resolution failure for literal arguments:\n\u001b[1mLorentzXYZTType()\u001b[0m\n\u001b[0m\u001b[1m- Resolution failure for non-literal arguments:\n\u001b[1mNone\u001b[0m\n\u001b[0m\u001b[0m\n\u001b[0m\u001b[1mDuring: resolving callee type: BoundFunction(append for ak.ArrayBuilderType({'byte': <class 'awkward.behaviors.string.ByteBehavior'>, ('__typestr__', 'byte'): 'byte', 'char': <class 'awkward.behaviors.string.CharBehavior'>, ('__typestr__', 'char'): 'char', 'bytestring': <class 'awkward.behaviors.string.ByteStringBehavior'>, ('__typestr__', 'bytestring'): 'bytes', 'string': <class 'awkward.behaviors.string.StringBehavior'>, ('__typestr__', 'string'): 'string', (<ufunc 'equal'>, 'bytestring', 'bytestring'): <function _string_equal at 0x000002ADE8547700>, (<ufunc 'equal'>, 'string', 'string'): <function _string_equal at 0x000002ADE8547700>, (<ufunc 'not_equal'>, 'bytestring', 'bytestring'): <function _string_notequal at 0x000002ADE854B310>, (<ufunc 'not_equal'>, 'string', 'string'): <function _string_notequal at 0x000002ADE854B310>, ('__broadcast__', 'bytestring'): <function _string_broadcast at 0x000002ADE854B3A0>, ('__broadcast__', 'string'): <function _string_broadcast at 0x000002ADE854B3A0>, ('__numba_typer__', 'bytestring'): <function _string_numba_typer at 0x000002ADE854B430>, ('__numba_lower__', 'bytestring'): <function _string_numba_lower at 0x000002ADE854B4C0>, ('__numba_typer__', 'string'): <function _string_numba_typer at 0x000002ADE854B430>, ('__numba_lower__', 'string'): <function _string_numba_lower at 0x000002ADE854B4C0>, 'categorical': <class 'awkward.behaviors.categorical.CategoricalBehavior'>, (<ufunc 'equal'>, 'categorical', 'categorical'): <function _categorical_equal at 0x000002ADE854BA60>, (<class 'numpy.ufunc'>, 'categorical'): <function _apply_ufunc at 0x000002ADE854BAF0>, 'LorentzXYZT': <class '__main__.LorentzXYZT'>, ('*', 'LorentzXYZT'): <class '__main__.LorentzXYZTArray'>, (<ufunc 'add'>, 'LorentzXYZT', 'LorentzXYZT'): <function lorentz_add_xyz_xyz at 0x000002ADD899B310>, ('__numba_typer__', 'LorentzXYZT', 'pt'): <function typer_lorentz_xyz_pt at 0x000002ADF7CB0940>, ('__numba_lower__', 'LorentzXYZT', 'pt'): <function lower_lorentz_xyz_pt at 0x000002ADF7CB0820>, ('__numba_typer__', 'LorentzXYZT', <built-in function eq>, 'LorentzXYZT'): <function typer_lorentz_xyz_eq at 0x000002ADF7CB0AF0>, ('__numba_lower__', 'LorentzXYZT', <built-in function eq>, 'LorentzXYZT'): <function lower_lorentz_xyz_eq at 0x000002ADF7CB05E0>, ('__numba_lower__', <function ArrayBuilder.append at 0x000002ADE85459D0>, <class '__main__.LorentzXYZTType'>): <function lower_ArrayBuilder_append_LorentzXYZT at 0x000002ADFD576670>, ('__numba_typer__', 'LorentzXYZT', <built-in function add>, 'LorentzXYZT'): <function typer_lorentz_xyz_add at 0x000002ADF7CB0CA0>, ('__numba_lower__', 'LorentzXYZT', <built-in function add>, 'LorentzXYZT'): <function lower_lorentz_xyz_add at 0x000002ADFD706D30>}))\u001b[0m\n\u001b[0m\u001b[1mDuring: typing of call at C:\\Users\\Saransh\\AppData\\Local\\Temp\\ipykernel_19540\\4130704722.py (14)\n\u001b[0m\n\u001b[1m\nFile \"C:\\Users\\Saransh\\AppData\\Local\\Temp\\ipykernel_19540\\4130704722.py\", line 14:\u001b[0m\n\u001b[1mdef do_cool_stuff(input, output):\n    <source elided>\n                output.index(0)\n\u001b[1m                output.append(zboson)\n\u001b[0m                \u001b[1m^\u001b[0m\u001b[0m\n"
     ]
    }
   ],
   "source": [
    "@nb.njit\n",
    "def do_cool_stuff(input, output):\n",
    "    for muons in input:\n",
    "        output.begin_list()\n",
    "\n",
    "        for i in range(len(muons)):\n",
    "            output.begin_list()\n",
    "\n",
    "            for j in range(i + 1, len(muons)):\n",
    "                zboson = muons[i] + muons[j]\n",
    "\n",
    "                output.begin_tuple(2)\n",
    "                output.index(0)\n",
    "                output.append(zboson)\n",
    "                output.index(1)\n",
    "                output.append(zboson.mass)\n",
    "                output.end_tuple()\n",
    "\n",
    "            output.end_list()\n",
    "\n",
    "        output.end_list()\n",
    "\n",
    "\n",
    "output = ak.ArrayBuilder(behavior=lorentzbehavior)\n",
    "do_cool_stuff(example5, output)\n",
    "\n",
    "print(output.snapshot())"
   ]
  },
  {
   "cell_type": "code",
   "execution_count": null,
   "metadata": {},
   "outputs": [],
   "source": []
  }
 ],
 "metadata": {
  "kernelspec": {
   "display_name": "Python 3 (ipykernel)",
   "language": "python",
   "name": "python3"
  },
  "language_info": {
   "codemirror_mode": {
    "name": "ipython",
    "version": 3
   },
   "file_extension": ".py",
   "mimetype": "text/x-python",
   "name": "python",
   "nbconvert_exporter": "python",
   "pygments_lexer": "ipython3",
   "version": "3.9.0"
  }
 },
 "nbformat": 4,
 "nbformat_minor": 4
}
